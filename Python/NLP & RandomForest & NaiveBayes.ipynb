{
 "cells": [
  {
   "cell_type": "code",
   "execution_count": 1,
   "metadata": {},
   "outputs": [],
   "source": [
    "import pandas as pd\n",
    "import numpy as np \n",
    "import matplotlib.pyplot as plt"
   ]
  },
  {
   "cell_type": "code",
   "execution_count": 2,
   "metadata": {},
   "outputs": [],
   "source": [
    "str = 'Sentinels fot the win'"
   ]
  },
  {
   "cell_type": "code",
   "execution_count": 3,
   "metadata": {},
   "outputs": [
    {
     "data": {
      "text/plain": [
       "2"
      ]
     },
     "execution_count": 3,
     "metadata": {},
     "output_type": "execute_result"
    }
   ],
   "source": [
    "str.index('n')"
   ]
  },
  {
   "cell_type": "markdown",
   "metadata": {},
   "source": [
    "## Regular expression"
   ]
  },
  {
   "cell_type": "code",
   "execution_count": 4,
   "metadata": {},
   "outputs": [],
   "source": [
    "import re"
   ]
  },
  {
   "cell_type": "markdown",
   "metadata": {},
   "source": [
    "[0-9] - search for numbers between 0-9\n"
   ]
  },
  {
   "cell_type": "code",
   "execution_count": 5,
   "metadata": {},
   "outputs": [],
   "source": [
    "str1 ='FNC-L234-W84732-Tier1-EU'"
   ]
  },
  {
   "cell_type": "code",
   "execution_count": 6,
   "metadata": {},
   "outputs": [
    {
     "data": {
      "text/plain": [
       "<re.Match object; span=(0, 3), match='FNC'>"
      ]
     },
     "execution_count": 6,
     "metadata": {},
     "output_type": "execute_result"
    }
   ],
   "source": [
    "re.match('FNC',str1)"
   ]
  },
  {
   "cell_type": "code",
   "execution_count": 7,
   "metadata": {},
   "outputs": [],
   "source": [
    "re.match('G2',str1)  #Returns null if match not found"
   ]
  },
  {
   "cell_type": "code",
   "execution_count": 8,
   "metadata": {},
   "outputs": [
    {
     "data": {
      "text/plain": [
       "<re.Match object; span=(16, 21), match='Tier1'>"
      ]
     },
     "execution_count": 8,
     "metadata": {},
     "output_type": "execute_result"
    }
   ],
   "source": [
    "# To search in between\n",
    "re.search('Tier1',str1)"
   ]
  },
  {
   "cell_type": "code",
   "execution_count": 9,
   "metadata": {},
   "outputs": [
    {
     "data": {
      "text/plain": [
       "'Tier1'"
      ]
     },
     "execution_count": 9,
     "metadata": {},
     "output_type": "execute_result"
    }
   ],
   "source": [
    "# Span gives the index\n",
    "str1[16:21]"
   ]
  },
  {
   "cell_type": "code",
   "execution_count": 10,
   "metadata": {},
   "outputs": [],
   "source": [
    "#Example ques \n",
    "eg='I like python'"
   ]
  },
  {
   "cell_type": "code",
   "execution_count": 11,
   "metadata": {},
   "outputs": [
    {
     "data": {
      "text/plain": [
       "<re.Match object; span=(7, 13), match='python'>"
      ]
     },
     "execution_count": 11,
     "metadata": {},
     "output_type": "execute_result"
    }
   ],
   "source": [
    "re.search('python',eg)"
   ]
  },
  {
   "cell_type": "code",
   "execution_count": 12,
   "metadata": {},
   "outputs": [
    {
     "data": {
      "text/plain": [
       "'python'"
      ]
     },
     "execution_count": 12,
     "metadata": {},
     "output_type": "execute_result"
    }
   ],
   "source": [
    "eg[7:13]"
   ]
  },
  {
   "cell_type": "code",
   "execution_count": 13,
   "metadata": {},
   "outputs": [
    {
     "data": {
      "text/plain": [
       "<re.Match object; span=(5, 8), match='234'>"
      ]
     },
     "execution_count": 13,
     "metadata": {},
     "output_type": "execute_result"
    }
   ],
   "source": [
    "re.search('[0-9][0-9][0-9]',str1)  #Searching for 3 consecutive digits"
   ]
  },
  {
   "cell_type": "code",
   "execution_count": 14,
   "metadata": {},
   "outputs": [
    {
     "data": {
      "text/plain": [
       "'234'"
      ]
     },
     "execution_count": 14,
     "metadata": {},
     "output_type": "execute_result"
    }
   ],
   "source": [
    "str1[5:8]"
   ]
  },
  {
   "cell_type": "code",
   "execution_count": 15,
   "metadata": {},
   "outputs": [
    {
     "name": "stdout",
     "output_type": "stream",
     "text": [
      "Help on module re:\n",
      "\n",
      "NAME\n",
      "    re - Support for regular expressions (RE).\n",
      "\n",
      "MODULE REFERENCE\n",
      "    https://docs.python.org/3.8/library/re\n",
      "    \n",
      "    The following documentation is automatically generated from the Python\n",
      "    source files.  It may be incomplete, incorrect or include features that\n",
      "    are considered implementation detail and may vary between Python\n",
      "    implementations.  When in doubt, consult the module reference at the\n",
      "    location listed above.\n",
      "\n",
      "DESCRIPTION\n",
      "    This module provides regular expression matching operations similar to\n",
      "    those found in Perl.  It supports both 8-bit and Unicode strings; both\n",
      "    the pattern and the strings being processed can contain null bytes and\n",
      "    characters outside the US ASCII range.\n",
      "    \n",
      "    Regular expressions can contain both special and ordinary characters.\n",
      "    Most ordinary characters, like \"A\", \"a\", or \"0\", are the simplest\n",
      "    regular expressions; they simply match themselves.  You can\n",
      "    concatenate ordinary characters, so last matches the string 'last'.\n",
      "    \n",
      "    The special characters are:\n",
      "        \".\"      Matches any character except a newline.\n",
      "        \"^\"      Matches the start of the string.\n",
      "        \"$\"      Matches the end of the string or just before the newline at\n",
      "                 the end of the string.\n",
      "        \"*\"      Matches 0 or more (greedy) repetitions of the preceding RE.\n",
      "                 Greedy means that it will match as many repetitions as possible.\n",
      "        \"+\"      Matches 1 or more (greedy) repetitions of the preceding RE.\n",
      "        \"?\"      Matches 0 or 1 (greedy) of the preceding RE.\n",
      "        *?,+?,?? Non-greedy versions of the previous three special characters.\n",
      "        {m,n}    Matches from m to n repetitions of the preceding RE.\n",
      "        {m,n}?   Non-greedy version of the above.\n",
      "        \"\\\\\"     Either escapes special characters or signals a special sequence.\n",
      "        []       Indicates a set of characters.\n",
      "                 A \"^\" as the first character indicates a complementing set.\n",
      "        \"|\"      A|B, creates an RE that will match either A or B.\n",
      "        (...)    Matches the RE inside the parentheses.\n",
      "                 The contents can be retrieved or matched later in the string.\n",
      "        (?aiLmsux) The letters set the corresponding flags defined below.\n",
      "        (?:...)  Non-grouping version of regular parentheses.\n",
      "        (?P<name>...) The substring matched by the group is accessible by name.\n",
      "        (?P=name)     Matches the text matched earlier by the group named name.\n",
      "        (?#...)  A comment; ignored.\n",
      "        (?=...)  Matches if ... matches next, but doesn't consume the string.\n",
      "        (?!...)  Matches if ... doesn't match next.\n",
      "        (?<=...) Matches if preceded by ... (must be fixed length).\n",
      "        (?<!...) Matches if not preceded by ... (must be fixed length).\n",
      "        (?(id/name)yes|no) Matches yes pattern if the group with id/name matched,\n",
      "                           the (optional) no pattern otherwise.\n",
      "    \n",
      "    The special sequences consist of \"\\\\\" and a character from the list\n",
      "    below.  If the ordinary character is not on the list, then the\n",
      "    resulting RE will match the second character.\n",
      "        \\number  Matches the contents of the group of the same number.\n",
      "        \\A       Matches only at the start of the string.\n",
      "        \\Z       Matches only at the end of the string.\n",
      "        \\b       Matches the empty string, but only at the start or end of a word.\n",
      "        \\B       Matches the empty string, but not at the start or end of a word.\n",
      "        \\d       Matches any decimal digit; equivalent to the set [0-9] in\n",
      "                 bytes patterns or string patterns with the ASCII flag.\n",
      "                 In string patterns without the ASCII flag, it will match the whole\n",
      "                 range of Unicode digits.\n",
      "        \\D       Matches any non-digit character; equivalent to [^\\d].\n",
      "        \\s       Matches any whitespace character; equivalent to [ \\t\\n\\r\\f\\v] in\n",
      "                 bytes patterns or string patterns with the ASCII flag.\n",
      "                 In string patterns without the ASCII flag, it will match the whole\n",
      "                 range of Unicode whitespace characters.\n",
      "        \\S       Matches any non-whitespace character; equivalent to [^\\s].\n",
      "        \\w       Matches any alphanumeric character; equivalent to [a-zA-Z0-9_]\n",
      "                 in bytes patterns or string patterns with the ASCII flag.\n",
      "                 In string patterns without the ASCII flag, it will match the\n",
      "                 range of Unicode alphanumeric characters (letters plus digits\n",
      "                 plus underscore).\n",
      "                 With LOCALE, it will match the set [0-9_] plus characters defined\n",
      "                 as letters for the current locale.\n",
      "        \\W       Matches the complement of \\w.\n",
      "        \\\\       Matches a literal backslash.\n",
      "    \n",
      "    This module exports the following functions:\n",
      "        match     Match a regular expression pattern to the beginning of a string.\n",
      "        fullmatch Match a regular expression pattern to all of a string.\n",
      "        search    Search a string for the presence of a pattern.\n",
      "        sub       Substitute occurrences of a pattern found in a string.\n",
      "        subn      Same as sub, but also return the number of substitutions made.\n",
      "        split     Split a string by the occurrences of a pattern.\n",
      "        findall   Find all occurrences of a pattern in a string.\n",
      "        finditer  Return an iterator yielding a Match object for each match.\n",
      "        compile   Compile a pattern into a Pattern object.\n",
      "        purge     Clear the regular expression cache.\n",
      "        escape    Backslash all non-alphanumerics in a string.\n",
      "    \n",
      "    Each function other than purge and escape can take an optional 'flags' argument\n",
      "    consisting of one or more of the following module constants, joined by \"|\".\n",
      "    A, L, and U are mutually exclusive.\n",
      "        A  ASCII       For string patterns, make \\w, \\W, \\b, \\B, \\d, \\D\n",
      "                       match the corresponding ASCII character categories\n",
      "                       (rather than the whole Unicode categories, which is the\n",
      "                       default).\n",
      "                       For bytes patterns, this flag is the only available\n",
      "                       behaviour and needn't be specified.\n",
      "        I  IGNORECASE  Perform case-insensitive matching.\n",
      "        L  LOCALE      Make \\w, \\W, \\b, \\B, dependent on the current locale.\n",
      "        M  MULTILINE   \"^\" matches the beginning of lines (after a newline)\n",
      "                       as well as the string.\n",
      "                       \"$\" matches the end of lines (before a newline) as well\n",
      "                       as the end of the string.\n",
      "        S  DOTALL      \".\" matches any character at all, including the newline.\n",
      "        X  VERBOSE     Ignore whitespace and comments for nicer looking RE's.\n",
      "        U  UNICODE     For compatibility only. Ignored for string patterns (it\n",
      "                       is the default), and forbidden for bytes patterns.\n",
      "    \n",
      "    This module also defines an exception 'error'.\n",
      "\n",
      "CLASSES\n",
      "    builtins.Exception(builtins.BaseException)\n",
      "        error\n",
      "    builtins.object\n",
      "        Match\n",
      "        Pattern\n",
      "    \n",
      "    class Match(builtins.object)\n",
      "     |  The result of re.match() and re.search().\n",
      "     |  Match objects always have a boolean value of True.\n",
      "     |  \n",
      "     |  Methods defined here:\n",
      "     |  \n",
      "     |  __copy__(self, /)\n",
      "     |  \n",
      "     |  __deepcopy__(self, memo, /)\n",
      "     |  \n",
      "     |  __getitem__(self, key, /)\n",
      "     |      Return self[key].\n",
      "     |  \n",
      "     |  __repr__(self, /)\n",
      "     |      Return repr(self).\n",
      "     |  \n",
      "     |  end(self, group=0, /)\n",
      "     |      Return index of the end of the substring matched by group.\n",
      "     |  \n",
      "     |  expand(self, /, template)\n",
      "     |      Return the string obtained by doing backslash substitution on the string template, as done by the sub() method.\n",
      "     |  \n",
      "     |  group(...)\n",
      "     |      group([group1, ...]) -> str or tuple.\n",
      "     |      Return subgroup(s) of the match by indices or names.\n",
      "     |      For 0 returns the entire match.\n",
      "     |  \n",
      "     |  groupdict(self, /, default=None)\n",
      "     |      Return a dictionary containing all the named subgroups of the match, keyed by the subgroup name.\n",
      "     |      \n",
      "     |      default\n",
      "     |        Is used for groups that did not participate in the match.\n",
      "     |  \n",
      "     |  groups(self, /, default=None)\n",
      "     |      Return a tuple containing all the subgroups of the match, from 1.\n",
      "     |      \n",
      "     |      default\n",
      "     |        Is used for groups that did not participate in the match.\n",
      "     |  \n",
      "     |  span(self, group=0, /)\n",
      "     |      For match object m, return the 2-tuple (m.start(group), m.end(group)).\n",
      "     |  \n",
      "     |  start(self, group=0, /)\n",
      "     |      Return index of the start of the substring matched by group.\n",
      "     |  \n",
      "     |  ----------------------------------------------------------------------\n",
      "     |  Data descriptors defined here:\n",
      "     |  \n",
      "     |  endpos\n",
      "     |      The index into the string beyond which the RE engine will not go.\n",
      "     |  \n",
      "     |  lastgroup\n",
      "     |      The name of the last matched capturing group.\n",
      "     |  \n",
      "     |  lastindex\n",
      "     |      The integer index of the last matched capturing group.\n",
      "     |  \n",
      "     |  pos\n",
      "     |      The index into the string at which the RE engine started looking for a match.\n",
      "     |  \n",
      "     |  re\n",
      "     |      The regular expression object.\n",
      "     |  \n",
      "     |  regs\n",
      "     |  \n",
      "     |  string\n",
      "     |      The string passed to match() or search().\n",
      "    \n",
      "    class Pattern(builtins.object)\n",
      "     |  Compiled regular expression object.\n",
      "     |  \n",
      "     |  Methods defined here:\n",
      "     |  \n",
      "     |  __copy__(self, /)\n",
      "     |  \n",
      "     |  __deepcopy__(self, memo, /)\n",
      "     |  \n",
      "     |  __eq__(self, value, /)\n",
      "     |      Return self==value.\n",
      "     |  \n",
      "     |  __ge__(self, value, /)\n",
      "     |      Return self>=value.\n",
      "     |  \n",
      "     |  __gt__(self, value, /)\n",
      "     |      Return self>value.\n",
      "     |  \n",
      "     |  __hash__(self, /)\n",
      "     |      Return hash(self).\n",
      "     |  \n",
      "     |  __le__(self, value, /)\n",
      "     |      Return self<=value.\n",
      "     |  \n",
      "     |  __lt__(self, value, /)\n",
      "     |      Return self<value.\n",
      "     |  \n",
      "     |  __ne__(self, value, /)\n",
      "     |      Return self!=value.\n",
      "     |  \n",
      "     |  __repr__(self, /)\n",
      "     |      Return repr(self).\n",
      "     |  \n",
      "     |  findall(self, /, string, pos=0, endpos=9223372036854775807)\n",
      "     |      Return a list of all non-overlapping matches of pattern in string.\n",
      "     |  \n",
      "     |  finditer(self, /, string, pos=0, endpos=9223372036854775807)\n",
      "     |      Return an iterator over all non-overlapping matches for the RE pattern in string.\n",
      "     |      \n",
      "     |      For each match, the iterator returns a match object.\n",
      "     |  \n",
      "     |  fullmatch(self, /, string, pos=0, endpos=9223372036854775807)\n",
      "     |      Matches against all of the string.\n",
      "     |  \n",
      "     |  match(self, /, string, pos=0, endpos=9223372036854775807)\n",
      "     |      Matches zero or more characters at the beginning of the string.\n",
      "     |  \n",
      "     |  scanner(self, /, string, pos=0, endpos=9223372036854775807)\n",
      "     |  \n",
      "     |  search(self, /, string, pos=0, endpos=9223372036854775807)\n",
      "     |      Scan through string looking for a match, and return a corresponding match object instance.\n",
      "     |      \n",
      "     |      Return None if no position in the string matches.\n",
      "     |  \n",
      "     |  split(self, /, string, maxsplit=0)\n",
      "     |      Split string by the occurrences of pattern.\n",
      "     |  \n",
      "     |  sub(self, /, repl, string, count=0)\n",
      "     |      Return the string obtained by replacing the leftmost non-overlapping occurrences of pattern in string by the replacement repl.\n",
      "     |  \n",
      "     |  subn(self, /, repl, string, count=0)\n",
      "     |      Return the tuple (new_string, number_of_subs_made) found by replacing the leftmost non-overlapping occurrences of pattern with the replacement repl.\n",
      "     |  \n",
      "     |  ----------------------------------------------------------------------\n",
      "     |  Data descriptors defined here:\n",
      "     |  \n",
      "     |  flags\n",
      "     |      The regex matching flags.\n",
      "     |  \n",
      "     |  groupindex\n",
      "     |      A dictionary mapping group names to group numbers.\n",
      "     |  \n",
      "     |  groups\n",
      "     |      The number of capturing groups in the pattern.\n",
      "     |  \n",
      "     |  pattern\n",
      "     |      The pattern string from which the RE object was compiled.\n",
      "    \n",
      "    class error(builtins.Exception)\n",
      "     |  error(msg, pattern=None, pos=None)\n",
      "     |  \n",
      "     |  Exception raised for invalid regular expressions.\n",
      "     |  \n",
      "     |  Attributes:\n",
      "     |  \n",
      "     |      msg: The unformatted error message\n",
      "     |      pattern: The regular expression pattern\n",
      "     |      pos: The index in the pattern where compilation failed (may be None)\n",
      "     |      lineno: The line corresponding to pos (may be None)\n",
      "     |      colno: The column corresponding to pos (may be None)\n",
      "     |  \n",
      "     |  Method resolution order:\n",
      "     |      error\n",
      "     |      builtins.Exception\n",
      "     |      builtins.BaseException\n",
      "     |      builtins.object\n",
      "     |  \n",
      "     |  Methods defined here:\n",
      "     |  \n",
      "     |  __init__(self, msg, pattern=None, pos=None)\n",
      "     |      Initialize self.  See help(type(self)) for accurate signature.\n",
      "     |  \n",
      "     |  ----------------------------------------------------------------------\n",
      "     |  Data descriptors defined here:\n",
      "     |  \n",
      "     |  __weakref__\n",
      "     |      list of weak references to the object (if defined)\n",
      "     |  \n",
      "     |  ----------------------------------------------------------------------\n",
      "     |  Static methods inherited from builtins.Exception:\n",
      "     |  \n",
      "     |  __new__(*args, **kwargs) from builtins.type\n",
      "     |      Create and return a new object.  See help(type) for accurate signature.\n",
      "     |  \n",
      "     |  ----------------------------------------------------------------------\n",
      "     |  Methods inherited from builtins.BaseException:\n",
      "     |  \n",
      "     |  __delattr__(self, name, /)\n",
      "     |      Implement delattr(self, name).\n",
      "     |  \n",
      "     |  __getattribute__(self, name, /)\n",
      "     |      Return getattr(self, name).\n",
      "     |  \n",
      "     |  __reduce__(...)\n",
      "     |      Helper for pickle.\n",
      "     |  \n",
      "     |  __repr__(self, /)\n",
      "     |      Return repr(self).\n",
      "     |  \n",
      "     |  __setattr__(self, name, value, /)\n",
      "     |      Implement setattr(self, name, value).\n",
      "     |  \n",
      "     |  __setstate__(...)\n",
      "     |  \n",
      "     |  __str__(self, /)\n",
      "     |      Return str(self).\n",
      "     |  \n",
      "     |  with_traceback(...)\n",
      "     |      Exception.with_traceback(tb) --\n",
      "     |      set self.__traceback__ to tb and return self.\n",
      "     |  \n",
      "     |  ----------------------------------------------------------------------\n",
      "     |  Data descriptors inherited from builtins.BaseException:\n",
      "     |  \n",
      "     |  __cause__\n",
      "     |      exception cause\n",
      "     |  \n",
      "     |  __context__\n",
      "     |      exception context\n",
      "     |  \n",
      "     |  __dict__\n",
      "     |  \n",
      "     |  __suppress_context__\n",
      "     |  \n",
      "     |  __traceback__\n",
      "     |  \n",
      "     |  args\n",
      "\n",
      "FUNCTIONS\n",
      "    compile(pattern, flags=0)\n",
      "        Compile a regular expression pattern, returning a Pattern object.\n",
      "    \n",
      "    escape(pattern)\n",
      "        Escape special characters in a string.\n",
      "    \n",
      "    findall(pattern, string, flags=0)\n",
      "        Return a list of all non-overlapping matches in the string.\n",
      "        \n",
      "        If one or more capturing groups are present in the pattern, return\n",
      "        a list of groups; this will be a list of tuples if the pattern\n",
      "        has more than one group.\n",
      "        \n",
      "        Empty matches are included in the result.\n",
      "    \n",
      "    finditer(pattern, string, flags=0)\n",
      "        Return an iterator over all non-overlapping matches in the\n",
      "        string.  For each match, the iterator returns a Match object.\n",
      "        \n",
      "        Empty matches are included in the result.\n",
      "    \n",
      "    fullmatch(pattern, string, flags=0)\n",
      "        Try to apply the pattern to all of the string, returning\n",
      "        a Match object, or None if no match was found.\n",
      "    \n",
      "    match(pattern, string, flags=0)\n",
      "        Try to apply the pattern at the start of the string, returning\n",
      "        a Match object, or None if no match was found.\n",
      "    \n",
      "    purge()\n",
      "        Clear the regular expression caches\n",
      "    \n",
      "    search(pattern, string, flags=0)\n",
      "        Scan through string looking for a match to the pattern, returning\n",
      "        a Match object, or None if no match was found.\n",
      "    \n",
      "    split(pattern, string, maxsplit=0, flags=0)\n",
      "        Split the source string by the occurrences of the pattern,\n",
      "        returning a list containing the resulting substrings.  If\n",
      "        capturing parentheses are used in pattern, then the text of all\n",
      "        groups in the pattern are also returned as part of the resulting\n",
      "        list.  If maxsplit is nonzero, at most maxsplit splits occur,\n",
      "        and the remainder of the string is returned as the final element\n",
      "        of the list.\n",
      "    \n",
      "    sub(pattern, repl, string, count=0, flags=0)\n",
      "        Return the string obtained by replacing the leftmost\n",
      "        non-overlapping occurrences of the pattern in string by the\n",
      "        replacement repl.  repl can be either a string or a callable;\n",
      "        if a string, backslash escapes in it are processed.  If it is\n",
      "        a callable, it's passed the Match object and must return\n",
      "        a replacement string to be used.\n",
      "    \n",
      "    subn(pattern, repl, string, count=0, flags=0)\n",
      "        Return a 2-tuple containing (new_string, number).\n",
      "        new_string is the string obtained by replacing the leftmost\n",
      "        non-overlapping occurrences of the pattern in the source\n",
      "        string by the replacement repl.  number is the number of\n",
      "        substitutions that were made. repl can be either a string or a\n",
      "        callable; if a string, backslash escapes in it are processed.\n",
      "        If it is a callable, it's passed the Match object and must\n",
      "        return a replacement string to be used.\n",
      "    \n",
      "    template(pattern, flags=0)\n",
      "        Compile a template pattern, returning a Pattern object\n",
      "\n",
      "DATA\n",
      "    A = re.ASCII\n",
      "    ASCII = re.ASCII\n",
      "    DOTALL = re.DOTALL\n",
      "    I = re.IGNORECASE\n",
      "    IGNORECASE = re.IGNORECASE\n",
      "    L = re.LOCALE\n",
      "    LOCALE = re.LOCALE\n",
      "    M = re.MULTILINE\n",
      "    MULTILINE = re.MULTILINE\n",
      "    S = re.DOTALL\n",
      "    U = re.UNICODE\n",
      "    UNICODE = re.UNICODE\n",
      "    VERBOSE = re.VERBOSE\n",
      "    X = re.VERBOSE\n",
      "    __all__ = ['match', 'fullmatch', 'search', 'sub', 'subn', 'split', 'fi...\n",
      "\n",
      "VERSION\n",
      "    2.2.1\n",
      "\n",
      "FILE\n",
      "    c:\\users\\piyus\\anaconda3\\lib\\re.py\n",
      "\n",
      "\n"
     ]
    }
   ],
   "source": [
    "help(re)"
   ]
  },
  {
   "cell_type": "code",
   "execution_count": 16,
   "metadata": {},
   "outputs": [],
   "source": [
    "str3 = 'data science with python'"
   ]
  },
  {
   "cell_type": "code",
   "execution_count": 17,
   "metadata": {},
   "outputs": [
    {
     "data": {
      "text/plain": [
       "'data analytics with python'"
      ]
     },
     "execution_count": 17,
     "metadata": {},
     "output_type": "execute_result"
    }
   ],
   "source": [
    "str3 = str3.replace('science','analytics')\n",
    "str3"
   ]
  },
  {
   "cell_type": "code",
   "execution_count": 18,
   "metadata": {},
   "outputs": [
    {
     "data": {
      "text/plain": [
       "'data science with python'"
      ]
     },
     "execution_count": 18,
     "metadata": {},
     "output_type": "execute_result"
    }
   ],
   "source": [
    "#Alternative\n",
    "str3 = re.sub('analytics','science',str3)\n",
    "str3"
   ]
  },
  {
   "cell_type": "code",
   "execution_count": 19,
   "metadata": {},
   "outputs": [],
   "source": [
    "str3 = 'Data Science with Python Science'"
   ]
  },
  {
   "cell_type": "code",
   "execution_count": 20,
   "metadata": {},
   "outputs": [
    {
     "data": {
      "text/plain": [
       "('Data Analytics with Python Analytics', 2)"
      ]
     },
     "execution_count": 20,
     "metadata": {},
     "output_type": "execute_result"
    }
   ],
   "source": [
    "re.subn('Science','Analytics',str3)"
   ]
  },
  {
   "cell_type": "markdown",
   "metadata": {},
   "source": [
    "RE on dataframe"
   ]
  },
  {
   "cell_type": "code",
   "execution_count": 21,
   "metadata": {},
   "outputs": [],
   "source": [
    "df = pd.read_csv('SMSSpamCollection',sep='\\t',header=0,names=['Label','Body'])"
   ]
  },
  {
   "cell_type": "code",
   "execution_count": 22,
   "metadata": {},
   "outputs": [
    {
     "data": {
      "text/html": [
       "<div>\n",
       "<style scoped>\n",
       "    .dataframe tbody tr th:only-of-type {\n",
       "        vertical-align: middle;\n",
       "    }\n",
       "\n",
       "    .dataframe tbody tr th {\n",
       "        vertical-align: top;\n",
       "    }\n",
       "\n",
       "    .dataframe thead th {\n",
       "        text-align: right;\n",
       "    }\n",
       "</style>\n",
       "<table border=\"1\" class=\"dataframe\">\n",
       "  <thead>\n",
       "    <tr style=\"text-align: right;\">\n",
       "      <th></th>\n",
       "      <th>Label</th>\n",
       "      <th>Body</th>\n",
       "    </tr>\n",
       "  </thead>\n",
       "  <tbody>\n",
       "    <tr>\n",
       "      <th>0</th>\n",
       "      <td>ham</td>\n",
       "      <td>Ok lar... Joking wif u oni...</td>\n",
       "    </tr>\n",
       "    <tr>\n",
       "      <th>1</th>\n",
       "      <td>spam</td>\n",
       "      <td>Free entry in 2 a wkly comp to win FA Cup fina...</td>\n",
       "    </tr>\n",
       "    <tr>\n",
       "      <th>2</th>\n",
       "      <td>ham</td>\n",
       "      <td>U dun say so early hor... U c already then say...</td>\n",
       "    </tr>\n",
       "    <tr>\n",
       "      <th>3</th>\n",
       "      <td>ham</td>\n",
       "      <td>Nah I don't think he goes to usf, he lives aro...</td>\n",
       "    </tr>\n",
       "    <tr>\n",
       "      <th>4</th>\n",
       "      <td>spam</td>\n",
       "      <td>FreeMsg Hey there darling it's been 3 week's n...</td>\n",
       "    </tr>\n",
       "  </tbody>\n",
       "</table>\n",
       "</div>"
      ],
      "text/plain": [
       "  Label                                               Body\n",
       "0   ham                      Ok lar... Joking wif u oni...\n",
       "1  spam  Free entry in 2 a wkly comp to win FA Cup fina...\n",
       "2   ham  U dun say so early hor... U c already then say...\n",
       "3   ham  Nah I don't think he goes to usf, he lives aro...\n",
       "4  spam  FreeMsg Hey there darling it's been 3 week's n..."
      ]
     },
     "execution_count": 22,
     "metadata": {},
     "output_type": "execute_result"
    }
   ],
   "source": [
    "df.head()"
   ]
  },
  {
   "cell_type": "code",
   "execution_count": 23,
   "metadata": {},
   "outputs": [
    {
     "name": "stdout",
     "output_type": "stream",
     "text": [
      "<class 'pandas.core.frame.DataFrame'>\n",
      "RangeIndex: 5571 entries, 0 to 5570\n",
      "Data columns (total 2 columns):\n",
      " #   Column  Non-Null Count  Dtype \n",
      "---  ------  --------------  ----- \n",
      " 0   Label   5571 non-null   object\n",
      " 1   Body    5571 non-null   object\n",
      "dtypes: object(2)\n",
      "memory usage: 87.2+ KB\n"
     ]
    }
   ],
   "source": [
    "df.info()"
   ]
  },
  {
   "cell_type": "code",
   "execution_count": 24,
   "metadata": {},
   "outputs": [
    {
     "data": {
      "text/plain": [
       "(5571, 2)"
      ]
     },
     "execution_count": 24,
     "metadata": {},
     "output_type": "execute_result"
    }
   ],
   "source": [
    "df.shape #No null values"
   ]
  },
  {
   "cell_type": "code",
   "execution_count": 25,
   "metadata": {},
   "outputs": [
    {
     "data": {
      "text/html": [
       "<div>\n",
       "<style scoped>\n",
       "    .dataframe tbody tr th:only-of-type {\n",
       "        vertical-align: middle;\n",
       "    }\n",
       "\n",
       "    .dataframe tbody tr th {\n",
       "        vertical-align: top;\n",
       "    }\n",
       "\n",
       "    .dataframe thead th {\n",
       "        text-align: right;\n",
       "    }\n",
       "</style>\n",
       "<table border=\"1\" class=\"dataframe\">\n",
       "  <thead>\n",
       "    <tr style=\"text-align: right;\">\n",
       "      <th></th>\n",
       "      <th>Label</th>\n",
       "      <th>Body</th>\n",
       "    </tr>\n",
       "  </thead>\n",
       "  <tbody>\n",
       "    <tr>\n",
       "      <th>count</th>\n",
       "      <td>5571</td>\n",
       "      <td>5571</td>\n",
       "    </tr>\n",
       "    <tr>\n",
       "      <th>unique</th>\n",
       "      <td>2</td>\n",
       "      <td>5168</td>\n",
       "    </tr>\n",
       "    <tr>\n",
       "      <th>top</th>\n",
       "      <td>ham</td>\n",
       "      <td>Sorry, I'll call later</td>\n",
       "    </tr>\n",
       "    <tr>\n",
       "      <th>freq</th>\n",
       "      <td>4824</td>\n",
       "      <td>30</td>\n",
       "    </tr>\n",
       "  </tbody>\n",
       "</table>\n",
       "</div>"
      ],
      "text/plain": [
       "       Label                    Body\n",
       "count   5571                    5571\n",
       "unique     2                    5168\n",
       "top      ham  Sorry, I'll call later\n",
       "freq    4824                      30"
      ]
     },
     "execution_count": 25,
     "metadata": {},
     "output_type": "execute_result"
    }
   ],
   "source": [
    "df.describe()"
   ]
  },
  {
   "cell_type": "code",
   "execution_count": 26,
   "metadata": {},
   "outputs": [
    {
     "data": {
      "text/html": [
       "<div>\n",
       "<style scoped>\n",
       "    .dataframe tbody tr th:only-of-type {\n",
       "        vertical-align: middle;\n",
       "    }\n",
       "\n",
       "    .dataframe tbody tr th {\n",
       "        vertical-align: top;\n",
       "    }\n",
       "\n",
       "    .dataframe thead th {\n",
       "        text-align: right;\n",
       "    }\n",
       "</style>\n",
       "<table border=\"1\" class=\"dataframe\">\n",
       "  <thead>\n",
       "    <tr style=\"text-align: right;\">\n",
       "      <th>col_0</th>\n",
       "      <th>Count</th>\n",
       "    </tr>\n",
       "    <tr>\n",
       "      <th>Label</th>\n",
       "      <th></th>\n",
       "    </tr>\n",
       "  </thead>\n",
       "  <tbody>\n",
       "    <tr>\n",
       "      <th>ham</th>\n",
       "      <td>4824</td>\n",
       "    </tr>\n",
       "    <tr>\n",
       "      <th>spam</th>\n",
       "      <td>747</td>\n",
       "    </tr>\n",
       "  </tbody>\n",
       "</table>\n",
       "</div>"
      ],
      "text/plain": [
       "col_0  Count\n",
       "Label       \n",
       "ham     4824\n",
       "spam     747"
      ]
     },
     "execution_count": 26,
     "metadata": {},
     "output_type": "execute_result"
    }
   ],
   "source": [
    "pd.crosstab(index=df['Label'],columns='Count')"
   ]
  },
  {
   "cell_type": "code",
   "execution_count": 27,
   "metadata": {},
   "outputs": [
    {
     "data": {
      "text/html": [
       "<div>\n",
       "<style scoped>\n",
       "    .dataframe tbody tr th:only-of-type {\n",
       "        vertical-align: middle;\n",
       "    }\n",
       "\n",
       "    .dataframe tbody tr th {\n",
       "        vertical-align: top;\n",
       "    }\n",
       "\n",
       "    .dataframe thead tr th {\n",
       "        text-align: left;\n",
       "    }\n",
       "\n",
       "    .dataframe thead tr:last-of-type th {\n",
       "        text-align: right;\n",
       "    }\n",
       "</style>\n",
       "<table border=\"1\" class=\"dataframe\">\n",
       "  <thead>\n",
       "    <tr>\n",
       "      <th></th>\n",
       "      <th colspan=\"4\" halign=\"left\">Body</th>\n",
       "    </tr>\n",
       "    <tr>\n",
       "      <th></th>\n",
       "      <th>count</th>\n",
       "      <th>unique</th>\n",
       "      <th>top</th>\n",
       "      <th>freq</th>\n",
       "    </tr>\n",
       "    <tr>\n",
       "      <th>Label</th>\n",
       "      <th></th>\n",
       "      <th></th>\n",
       "      <th></th>\n",
       "      <th></th>\n",
       "    </tr>\n",
       "  </thead>\n",
       "  <tbody>\n",
       "    <tr>\n",
       "      <th>ham</th>\n",
       "      <td>4824</td>\n",
       "      <td>4515</td>\n",
       "      <td>Sorry, I'll call later</td>\n",
       "      <td>30</td>\n",
       "    </tr>\n",
       "    <tr>\n",
       "      <th>spam</th>\n",
       "      <td>747</td>\n",
       "      <td>653</td>\n",
       "      <td>Please call our customer service representativ...</td>\n",
       "      <td>4</td>\n",
       "    </tr>\n",
       "  </tbody>\n",
       "</table>\n",
       "</div>"
      ],
      "text/plain": [
       "       Body                                                               \n",
       "      count unique                                                top freq\n",
       "Label                                                                     \n",
       "ham    4824   4515                             Sorry, I'll call later   30\n",
       "spam    747    653  Please call our customer service representativ...    4"
      ]
     },
     "execution_count": 27,
     "metadata": {},
     "output_type": "execute_result"
    }
   ],
   "source": [
    "df.groupby(by='Label').describe()"
   ]
  },
  {
   "cell_type": "code",
   "execution_count": 28,
   "metadata": {},
   "outputs": [
    {
     "data": {
      "text/html": [
       "<div>\n",
       "<style scoped>\n",
       "    .dataframe tbody tr th:only-of-type {\n",
       "        vertical-align: middle;\n",
       "    }\n",
       "\n",
       "    .dataframe tbody tr th {\n",
       "        vertical-align: top;\n",
       "    }\n",
       "\n",
       "    .dataframe thead th {\n",
       "        text-align: right;\n",
       "    }\n",
       "</style>\n",
       "<table border=\"1\" class=\"dataframe\">\n",
       "  <thead>\n",
       "    <tr style=\"text-align: right;\">\n",
       "      <th></th>\n",
       "      <th>Label</th>\n",
       "      <th>Body</th>\n",
       "      <th>Length</th>\n",
       "    </tr>\n",
       "  </thead>\n",
       "  <tbody>\n",
       "    <tr>\n",
       "      <th>0</th>\n",
       "      <td>ham</td>\n",
       "      <td>Ok lar... Joking wif u oni...</td>\n",
       "      <td>29</td>\n",
       "    </tr>\n",
       "    <tr>\n",
       "      <th>1</th>\n",
       "      <td>spam</td>\n",
       "      <td>Free entry in 2 a wkly comp to win FA Cup fina...</td>\n",
       "      <td>155</td>\n",
       "    </tr>\n",
       "    <tr>\n",
       "      <th>2</th>\n",
       "      <td>ham</td>\n",
       "      <td>U dun say so early hor... U c already then say...</td>\n",
       "      <td>49</td>\n",
       "    </tr>\n",
       "    <tr>\n",
       "      <th>3</th>\n",
       "      <td>ham</td>\n",
       "      <td>Nah I don't think he goes to usf, he lives aro...</td>\n",
       "      <td>61</td>\n",
       "    </tr>\n",
       "    <tr>\n",
       "      <th>4</th>\n",
       "      <td>spam</td>\n",
       "      <td>FreeMsg Hey there darling it's been 3 week's n...</td>\n",
       "      <td>147</td>\n",
       "    </tr>\n",
       "  </tbody>\n",
       "</table>\n",
       "</div>"
      ],
      "text/plain": [
       "  Label                                               Body  Length\n",
       "0   ham                      Ok lar... Joking wif u oni...      29\n",
       "1  spam  Free entry in 2 a wkly comp to win FA Cup fina...     155\n",
       "2   ham  U dun say so early hor... U c already then say...      49\n",
       "3   ham  Nah I don't think he goes to usf, he lives aro...      61\n",
       "4  spam  FreeMsg Hey there darling it's been 3 week's n...     147"
      ]
     },
     "execution_count": 28,
     "metadata": {},
     "output_type": "execute_result"
    }
   ],
   "source": [
    "df['Length']= df['Body'].apply(len)\n",
    "df.head()"
   ]
  },
  {
   "cell_type": "code",
   "execution_count": 29,
   "metadata": {},
   "outputs": [
    {
     "data": {
      "text/html": [
       "<div>\n",
       "<style scoped>\n",
       "    .dataframe tbody tr th:only-of-type {\n",
       "        vertical-align: middle;\n",
       "    }\n",
       "\n",
       "    .dataframe tbody tr th {\n",
       "        vertical-align: top;\n",
       "    }\n",
       "\n",
       "    .dataframe thead tr th {\n",
       "        text-align: left;\n",
       "    }\n",
       "\n",
       "    .dataframe thead tr:last-of-type th {\n",
       "        text-align: right;\n",
       "    }\n",
       "</style>\n",
       "<table border=\"1\" class=\"dataframe\">\n",
       "  <thead>\n",
       "    <tr>\n",
       "      <th></th>\n",
       "      <th colspan=\"8\" halign=\"left\">Length</th>\n",
       "    </tr>\n",
       "    <tr>\n",
       "      <th></th>\n",
       "      <th>count</th>\n",
       "      <th>mean</th>\n",
       "      <th>std</th>\n",
       "      <th>min</th>\n",
       "      <th>25%</th>\n",
       "      <th>50%</th>\n",
       "      <th>75%</th>\n",
       "      <th>max</th>\n",
       "    </tr>\n",
       "    <tr>\n",
       "      <th>Label</th>\n",
       "      <th></th>\n",
       "      <th></th>\n",
       "      <th></th>\n",
       "      <th></th>\n",
       "      <th></th>\n",
       "      <th></th>\n",
       "      <th></th>\n",
       "      <th></th>\n",
       "    </tr>\n",
       "  </thead>\n",
       "  <tbody>\n",
       "    <tr>\n",
       "      <th>ham</th>\n",
       "      <td>4824.0</td>\n",
       "      <td>71.474295</td>\n",
       "      <td>58.443940</td>\n",
       "      <td>2.0</td>\n",
       "      <td>33.0</td>\n",
       "      <td>52.0</td>\n",
       "      <td>93.0</td>\n",
       "      <td>910.0</td>\n",
       "    </tr>\n",
       "    <tr>\n",
       "      <th>spam</th>\n",
       "      <td>747.0</td>\n",
       "      <td>138.670683</td>\n",
       "      <td>28.873603</td>\n",
       "      <td>13.0</td>\n",
       "      <td>133.0</td>\n",
       "      <td>149.0</td>\n",
       "      <td>157.0</td>\n",
       "      <td>223.0</td>\n",
       "    </tr>\n",
       "  </tbody>\n",
       "</table>\n",
       "</div>"
      ],
      "text/plain": [
       "       Length                                                         \n",
       "        count        mean        std   min    25%    50%    75%    max\n",
       "Label                                                                 \n",
       "ham    4824.0   71.474295  58.443940   2.0   33.0   52.0   93.0  910.0\n",
       "spam    747.0  138.670683  28.873603  13.0  133.0  149.0  157.0  223.0"
      ]
     },
     "execution_count": 29,
     "metadata": {},
     "output_type": "execute_result"
    }
   ],
   "source": [
    "df.groupby(by='Label').describe()"
   ]
  },
  {
   "cell_type": "code",
   "execution_count": 30,
   "metadata": {},
   "outputs": [
    {
     "data": {
      "text/plain": [
       "<AxesSubplot:>"
      ]
     },
     "execution_count": 30,
     "metadata": {},
     "output_type": "execute_result"
    },
    {
     "data": {
      "image/png": "[encoded data removed]",
      "text/plain": [
       "<Figure size 648x648 with 1 Axes>"
      ]
     },
     "metadata": {
      "needs_background": "light"
     },
     "output_type": "display_data"
    }
   ],
   "source": [
    "plt.figure(figsize=(9,9))\n",
    "df['Length'].hist()"
   ]
  },
  {
   "cell_type": "code",
   "execution_count": 31,
   "metadata": {},
   "outputs": [
    {
     "data": {
      "text/plain": [
       "Label\n",
       "ham     [[AxesSubplot(0.125,0.125;0.775x0.755)]]\n",
       "spam    [[AxesSubplot(0.125,0.125;0.775x0.755)]]\n",
       "dtype: object"
      ]
     },
     "execution_count": 31,
     "metadata": {},
     "output_type": "execute_result"
    },
    {
     "data": {
      "text/plain": [
       "<Figure size 648x648 with 0 Axes>"
      ]
     },
     "metadata": {},
     "output_type": "display_data"
    },
    {
     "data": {
      "image/png": "[encoded data removed]",
      "text/plain": [
       "<Figure size 432x288 with 1 Axes>"
      ]
     },
     "metadata": {
      "needs_background": "light"
     },
     "output_type": "display_data"
    },
    {
     "data": {
      "image/png": "[encoded data removed]",
      "text/plain": [
       "<Figure size 432x288 with 1 Axes>"
      ]
     },
     "metadata": {
      "needs_background": "light"
     },
     "output_type": "display_data"
    }
   ],
   "source": [
    "plt.figure(figsize=(9,9))\n",
    "df.groupby(by='Label').hist()\n"
   ]
  },
  {
   "cell_type": "code",
   "execution_count": 32,
   "metadata": {},
   "outputs": [
    {
     "data": {
      "text/html": [
       "<div>\n",
       "<style scoped>\n",
       "    .dataframe tbody tr th:only-of-type {\n",
       "        vertical-align: middle;\n",
       "    }\n",
       "\n",
       "    .dataframe tbody tr th {\n",
       "        vertical-align: top;\n",
       "    }\n",
       "\n",
       "    .dataframe thead th {\n",
       "        text-align: right;\n",
       "    }\n",
       "</style>\n",
       "<table border=\"1\" class=\"dataframe\">\n",
       "  <thead>\n",
       "    <tr style=\"text-align: right;\">\n",
       "      <th></th>\n",
       "      <th>Label</th>\n",
       "      <th>Body</th>\n",
       "      <th>Length</th>\n",
       "    </tr>\n",
       "  </thead>\n",
       "  <tbody>\n",
       "    <tr>\n",
       "      <th>1</th>\n",
       "      <td>spam</td>\n",
       "      <td>Free entry in 2 a wkly comp to win FA Cup fina...</td>\n",
       "      <td>155</td>\n",
       "    </tr>\n",
       "    <tr>\n",
       "      <th>4</th>\n",
       "      <td>spam</td>\n",
       "      <td>FreeMsg Hey there darling it's been 3 week's n...</td>\n",
       "      <td>147</td>\n",
       "    </tr>\n",
       "    <tr>\n",
       "      <th>7</th>\n",
       "      <td>spam</td>\n",
       "      <td>WINNER!! As a valued network customer you have...</td>\n",
       "      <td>157</td>\n",
       "    </tr>\n",
       "    <tr>\n",
       "      <th>8</th>\n",
       "      <td>spam</td>\n",
       "      <td>Had your mobile 11 months or more? U R entitle...</td>\n",
       "      <td>154</td>\n",
       "    </tr>\n",
       "    <tr>\n",
       "      <th>10</th>\n",
       "      <td>spam</td>\n",
       "      <td>SIX chances to win CASH! From 100 to 20,000 po...</td>\n",
       "      <td>136</td>\n",
       "    </tr>\n",
       "    <tr>\n",
       "      <th>...</th>\n",
       "      <td>...</td>\n",
       "      <td>...</td>\n",
       "      <td>...</td>\n",
       "    </tr>\n",
       "    <tr>\n",
       "      <th>5536</th>\n",
       "      <td>spam</td>\n",
       "      <td>Want explicit SEX in 30 secs? Ring 02073162414...</td>\n",
       "      <td>90</td>\n",
       "    </tr>\n",
       "    <tr>\n",
       "      <th>5539</th>\n",
       "      <td>spam</td>\n",
       "      <td>ASKED 3MOBILE IF 0870 CHATLINES INCLU IN FREE ...</td>\n",
       "      <td>158</td>\n",
       "    </tr>\n",
       "    <tr>\n",
       "      <th>5546</th>\n",
       "      <td>spam</td>\n",
       "      <td>Had your contract mobile 11 Mnths? Latest Moto...</td>\n",
       "      <td>160</td>\n",
       "    </tr>\n",
       "    <tr>\n",
       "      <th>5565</th>\n",
       "      <td>spam</td>\n",
       "      <td>REMINDER FROM O2: To get 2.50 pounds free call...</td>\n",
       "      <td>147</td>\n",
       "    </tr>\n",
       "    <tr>\n",
       "      <th>5566</th>\n",
       "      <td>spam</td>\n",
       "      <td>This is the 2nd time we have tried 2 contact u...</td>\n",
       "      <td>160</td>\n",
       "    </tr>\n",
       "  </tbody>\n",
       "</table>\n",
       "<p>747 rows × 3 columns</p>\n",
       "</div>"
      ],
      "text/plain": [
       "     Label                                               Body  Length\n",
       "1     spam  Free entry in 2 a wkly comp to win FA Cup fina...     155\n",
       "4     spam  FreeMsg Hey there darling it's been 3 week's n...     147\n",
       "7     spam  WINNER!! As a valued network customer you have...     157\n",
       "8     spam  Had your mobile 11 months or more? U R entitle...     154\n",
       "10    spam  SIX chances to win CASH! From 100 to 20,000 po...     136\n",
       "...    ...                                                ...     ...\n",
       "5536  spam  Want explicit SEX in 30 secs? Ring 02073162414...      90\n",
       "5539  spam  ASKED 3MOBILE IF 0870 CHATLINES INCLU IN FREE ...     158\n",
       "5546  spam  Had your contract mobile 11 Mnths? Latest Moto...     160\n",
       "5565  spam  REMINDER FROM O2: To get 2.50 pounds free call...     147\n",
       "5566  spam  This is the 2nd time we have tried 2 contact u...     160\n",
       "\n",
       "[747 rows x 3 columns]"
      ]
     },
     "execution_count": 32,
     "metadata": {},
     "output_type": "execute_result"
    }
   ],
   "source": [
    "# No particular relation b/w length and Label\n",
    "df[df['Label']=='spam']"
   ]
  },
  {
   "cell_type": "markdown",
   "metadata": {},
   "source": [
    "## Various methods to deal with strings"
   ]
  },
  {
   "cell_type": "markdown",
   "metadata": {},
   "source": [
    "# Punctuation removal"
   ]
  },
  {
   "cell_type": "code",
   "execution_count": 33,
   "metadata": {},
   "outputs": [
    {
     "data": {
      "text/plain": [
       "'!\"#$%&\\'()*+,-./:;<=>?@[\\\\]^_`{|}~'"
      ]
     },
     "execution_count": 33,
     "metadata": {},
     "output_type": "execute_result"
    }
   ],
   "source": [
    "# Removing punctuation marks before applying RE\n",
    "import string\n",
    "string.punctuation"
   ]
  },
  {
   "cell_type": "code",
   "execution_count": 34,
   "metadata": {},
   "outputs": [],
   "source": [
    "str = '   the hou$se is in th-e si;-de of t/he ri[ve}r'"
   ]
  },
  {
   "cell_type": "code",
   "execution_count": 35,
   "metadata": {},
   "outputs": [
    {
     "data": {
      "text/plain": [
       "[' ',\n",
       " ' ',\n",
       " ' ',\n",
       " 't',\n",
       " 'h',\n",
       " 'e',\n",
       " ' ',\n",
       " 'h',\n",
       " 'o',\n",
       " 'u',\n",
       " 's',\n",
       " 'e',\n",
       " ' ',\n",
       " 'i',\n",
       " 's',\n",
       " ' ',\n",
       " 'i',\n",
       " 'n',\n",
       " ' ',\n",
       " 't',\n",
       " 'h',\n",
       " 'e',\n",
       " ' ',\n",
       " 's',\n",
       " 'i',\n",
       " 'd',\n",
       " 'e',\n",
       " ' ',\n",
       " 'o',\n",
       " 'f',\n",
       " ' ',\n",
       " 't',\n",
       " 'h',\n",
       " 'e',\n",
       " ' ',\n",
       " 'r',\n",
       " 'i',\n",
       " 'v',\n",
       " 'e',\n",
       " 'r']"
      ]
     },
     "execution_count": 35,
     "metadata": {},
     "output_type": "execute_result"
    }
   ],
   "source": [
    "y=[x for x in str if x not in string.punctuation]\n",
    "y"
   ]
  },
  {
   "cell_type": "code",
   "execution_count": 36,
   "metadata": {},
   "outputs": [
    {
     "data": {
      "text/plain": [
       "'   the house is in the side of the river'"
      ]
     },
     "execution_count": 36,
     "metadata": {},
     "output_type": "execute_result"
    }
   ],
   "source": [
    "''.join(y)"
   ]
  },
  {
   "cell_type": "markdown",
   "metadata": {},
   "source": [
    "# Stopwords removal"
   ]
  },
  {
   "cell_type": "code",
   "execution_count": 37,
   "metadata": {},
   "outputs": [
    {
     "name": "stderr",
     "output_type": "stream",
     "text": [
      "[nltk_data] Downloading package stopwords to\n",
      "[nltk_data]     C:\\Users\\piyus\\AppData\\Roaming\\nltk_data...\n",
      "[nltk_data]   Package stopwords is already up-to-date!\n"
     ]
    },
    {
     "data": {
      "text/plain": [
       "True"
      ]
     },
     "execution_count": 37,
     "metadata": {},
     "output_type": "execute_result"
    }
   ],
   "source": [
    "#Stopwords like I, you , me etc\n",
    "import nltk\n",
    "from nltk.corpus import stopwords\n",
    "nltk.download('stopwords')"
   ]
  },
  {
   "cell_type": "code",
   "execution_count": 38,
   "metadata": {},
   "outputs": [
    {
     "data": {
      "text/plain": [
       "['i',\n",
       " 'me',\n",
       " 'my',\n",
       " 'myself',\n",
       " 'we',\n",
       " 'our',\n",
       " 'ours',\n",
       " 'ourselves',\n",
       " 'you',\n",
       " \"you're\",\n",
       " \"you've\",\n",
       " \"you'll\",\n",
       " \"you'd\",\n",
       " 'your',\n",
       " 'yours',\n",
       " 'yourself',\n",
       " 'yourselves',\n",
       " 'he',\n",
       " 'him',\n",
       " 'his',\n",
       " 'himself',\n",
       " 'she',\n",
       " \"she's\",\n",
       " 'her',\n",
       " 'hers',\n",
       " 'herself',\n",
       " 'it',\n",
       " \"it's\",\n",
       " 'its',\n",
       " 'itself',\n",
       " 'they',\n",
       " 'them',\n",
       " 'their',\n",
       " 'theirs',\n",
       " 'themselves',\n",
       " 'what',\n",
       " 'which',\n",
       " 'who',\n",
       " 'whom',\n",
       " 'this',\n",
       " 'that',\n",
       " \"that'll\",\n",
       " 'these',\n",
       " 'those',\n",
       " 'am',\n",
       " 'is',\n",
       " 'are',\n",
       " 'was',\n",
       " 'were',\n",
       " 'be',\n",
       " 'been',\n",
       " 'being',\n",
       " 'have',\n",
       " 'has',\n",
       " 'had',\n",
       " 'having',\n",
       " 'do',\n",
       " 'does',\n",
       " 'did',\n",
       " 'doing',\n",
       " 'a',\n",
       " 'an',\n",
       " 'the',\n",
       " 'and',\n",
       " 'but',\n",
       " 'if',\n",
       " 'or',\n",
       " 'because',\n",
       " 'as',\n",
       " 'until',\n",
       " 'while',\n",
       " 'of',\n",
       " 'at',\n",
       " 'by',\n",
       " 'for',\n",
       " 'with',\n",
       " 'about',\n",
       " 'against',\n",
       " 'between',\n",
       " 'into',\n",
       " 'through',\n",
       " 'during',\n",
       " 'before',\n",
       " 'after',\n",
       " 'above',\n",
       " 'below',\n",
       " 'to',\n",
       " 'from',\n",
       " 'up',\n",
       " 'down',\n",
       " 'in',\n",
       " 'out',\n",
       " 'on',\n",
       " 'off',\n",
       " 'over',\n",
       " 'under',\n",
       " 'again',\n",
       " 'further',\n",
       " 'then',\n",
       " 'once',\n",
       " 'here',\n",
       " 'there',\n",
       " 'when',\n",
       " 'where',\n",
       " 'why',\n",
       " 'how',\n",
       " 'all',\n",
       " 'any',\n",
       " 'both',\n",
       " 'each',\n",
       " 'few',\n",
       " 'more',\n",
       " 'most',\n",
       " 'other',\n",
       " 'some',\n",
       " 'such',\n",
       " 'no',\n",
       " 'nor',\n",
       " 'not',\n",
       " 'only',\n",
       " 'own',\n",
       " 'same',\n",
       " 'so',\n",
       " 'than',\n",
       " 'too',\n",
       " 'very',\n",
       " 's',\n",
       " 't',\n",
       " 'can',\n",
       " 'will',\n",
       " 'just',\n",
       " 'don',\n",
       " \"don't\",\n",
       " 'should',\n",
       " \"should've\",\n",
       " 'now',\n",
       " 'd',\n",
       " 'll',\n",
       " 'm',\n",
       " 'o',\n",
       " 're',\n",
       " 've',\n",
       " 'y',\n",
       " 'ain',\n",
       " 'aren',\n",
       " \"aren't\",\n",
       " 'couldn',\n",
       " \"couldn't\",\n",
       " 'didn',\n",
       " \"didn't\",\n",
       " 'doesn',\n",
       " \"doesn't\",\n",
       " 'hadn',\n",
       " \"hadn't\",\n",
       " 'hasn',\n",
       " \"hasn't\",\n",
       " 'haven',\n",
       " \"haven't\",\n",
       " 'isn',\n",
       " \"isn't\",\n",
       " 'ma',\n",
       " 'mightn',\n",
       " \"mightn't\",\n",
       " 'mustn',\n",
       " \"mustn't\",\n",
       " 'needn',\n",
       " \"needn't\",\n",
       " 'shan',\n",
       " \"shan't\",\n",
       " 'shouldn',\n",
       " \"shouldn't\",\n",
       " 'wasn',\n",
       " \"wasn't\",\n",
       " 'weren',\n",
       " \"weren't\",\n",
       " 'won',\n",
       " \"won't\",\n",
       " 'wouldn',\n",
       " \"wouldn't\"]"
      ]
     },
     "execution_count": 38,
     "metadata": {},
     "output_type": "execute_result"
    }
   ],
   "source": [
    "stopwords.words('english')"
   ]
  },
  {
   "cell_type": "markdown",
   "metadata": {},
   "source": [
    "### Function for both punctuation and stopwords removal"
   ]
  },
  {
   "cell_type": "code",
   "execution_count": 39,
   "metadata": {},
   "outputs": [],
   "source": [
    "def clean_words(text):\n",
    "    no_punc = [char for char in text if char not in string.punctuation]\n",
    "    no_punc = ''.join(no_punc)\n",
    "    return [char for char in no_punc.lower().split() if char not in stopwords.words('english')]"
   ]
  },
  {
   "cell_type": "code",
   "execution_count": 40,
   "metadata": {},
   "outputs": [
    {
     "data": {
      "text/plain": [
       "['name', 'course', 'studying', 'data', 'science']"
      ]
     },
     "execution_count": 40,
     "metadata": {},
     "output_type": "execute_result"
    }
   ],
   "source": [
    "sen = \"The name o{f the !..course which I hav?e been study!ing is data science \"\n",
    "clean_words(sen)"
   ]
  },
  {
   "cell_type": "code",
   "execution_count": 41,
   "metadata": {},
   "outputs": [
    {
     "data": {
      "text/plain": [
       "'I read Statistical Applications by Hastie. I have been reading it for 2 weeks very well'"
      ]
     },
     "execution_count": 41,
     "metadata": {},
     "output_type": "execute_result"
    }
   ],
   "source": [
    "sen1 = 'I read Statistical Applications by Hastie. I have been reading it for 2 weeks very well'\n",
    "sen1"
   ]
  },
  {
   "cell_type": "markdown",
   "metadata": {},
   "source": [
    "# Stemming - to get to the root word"
   ]
  },
  {
   "cell_type": "code",
   "execution_count": 42,
   "metadata": {},
   "outputs": [],
   "source": [
    "from nltk.stem.porter import PorterStemmer\n",
    "stemmer = PorterStemmer()"
   ]
  },
  {
   "cell_type": "code",
   "execution_count": 43,
   "metadata": {},
   "outputs": [
    {
     "data": {
      "text/plain": [
       "'drive'"
      ]
     },
     "execution_count": 43,
     "metadata": {},
     "output_type": "execute_result"
    }
   ],
   "source": [
    "stemmer.stem('driving')"
   ]
  },
  {
   "cell_type": "code",
   "execution_count": 44,
   "metadata": {},
   "outputs": [
    {
     "data": {
      "text/plain": [
       "'drive'"
      ]
     },
     "execution_count": 44,
     "metadata": {},
     "output_type": "execute_result"
    }
   ],
   "source": [
    "stemmer.stem('driving')"
   ]
  },
  {
   "cell_type": "markdown",
   "metadata": {},
   "source": [
    "# Lemmatizing\n",
    "Root of a word wrt part of speech ( like adjective )"
   ]
  },
  {
   "cell_type": "code",
   "execution_count": 45,
   "metadata": {},
   "outputs": [],
   "source": [
    "from nltk.stem import WordNetLemmatizer\n",
    "lemmatizer = WordNetLemmatizer()"
   ]
  },
  {
   "cell_type": "code",
   "execution_count": 46,
   "metadata": {},
   "outputs": [
    {
     "data": {
      "text/plain": [
       "'good'"
      ]
     },
     "execution_count": 46,
     "metadata": {},
     "output_type": "execute_result"
    }
   ],
   "source": [
    "# Root of better (good ,better, best) ... pos - part of speech here a stands for adjective\n",
    "lemmatizer.lemmatize('better',pos='a')"
   ]
  },
  {
   "cell_type": "code",
   "execution_count": 47,
   "metadata": {},
   "outputs": [
    {
     "data": {
      "text/html": [
       "<div>\n",
       "<style scoped>\n",
       "    .dataframe tbody tr th:only-of-type {\n",
       "        vertical-align: middle;\n",
       "    }\n",
       "\n",
       "    .dataframe tbody tr th {\n",
       "        vertical-align: top;\n",
       "    }\n",
       "\n",
       "    .dataframe thead th {\n",
       "        text-align: right;\n",
       "    }\n",
       "</style>\n",
       "<table border=\"1\" class=\"dataframe\">\n",
       "  <thead>\n",
       "    <tr style=\"text-align: right;\">\n",
       "      <th></th>\n",
       "      <th>Label</th>\n",
       "      <th>Body</th>\n",
       "      <th>Length</th>\n",
       "      <th>Clean_Words</th>\n",
       "    </tr>\n",
       "  </thead>\n",
       "  <tbody>\n",
       "    <tr>\n",
       "      <th>0</th>\n",
       "      <td>ham</td>\n",
       "      <td>Ok lar... Joking wif u oni...</td>\n",
       "      <td>29</td>\n",
       "      <td>[ok, lar, joking, wif, u, oni]</td>\n",
       "    </tr>\n",
       "    <tr>\n",
       "      <th>1</th>\n",
       "      <td>spam</td>\n",
       "      <td>Free entry in 2 a wkly comp to win FA Cup fina...</td>\n",
       "      <td>155</td>\n",
       "      <td>[free, entry, 2, wkly, comp, win, fa, cup, fin...</td>\n",
       "    </tr>\n",
       "    <tr>\n",
       "      <th>2</th>\n",
       "      <td>ham</td>\n",
       "      <td>U dun say so early hor... U c already then say...</td>\n",
       "      <td>49</td>\n",
       "      <td>[u, dun, say, early, hor, u, c, already, say]</td>\n",
       "    </tr>\n",
       "    <tr>\n",
       "      <th>3</th>\n",
       "      <td>ham</td>\n",
       "      <td>Nah I don't think he goes to usf, he lives aro...</td>\n",
       "      <td>61</td>\n",
       "      <td>[nah, dont, think, goes, usf, lives, around, t...</td>\n",
       "    </tr>\n",
       "    <tr>\n",
       "      <th>4</th>\n",
       "      <td>spam</td>\n",
       "      <td>FreeMsg Hey there darling it's been 3 week's n...</td>\n",
       "      <td>147</td>\n",
       "      <td>[freemsg, hey, darling, 3, weeks, word, back, ...</td>\n",
       "    </tr>\n",
       "  </tbody>\n",
       "</table>\n",
       "</div>"
      ],
      "text/plain": [
       "  Label                                               Body  Length  \\\n",
       "0   ham                      Ok lar... Joking wif u oni...      29   \n",
       "1  spam  Free entry in 2 a wkly comp to win FA Cup fina...     155   \n",
       "2   ham  U dun say so early hor... U c already then say...      49   \n",
       "3   ham  Nah I don't think he goes to usf, he lives aro...      61   \n",
       "4  spam  FreeMsg Hey there darling it's been 3 week's n...     147   \n",
       "\n",
       "                                         Clean_Words  \n",
       "0                     [ok, lar, joking, wif, u, oni]  \n",
       "1  [free, entry, 2, wkly, comp, win, fa, cup, fin...  \n",
       "2      [u, dun, say, early, hor, u, c, already, say]  \n",
       "3  [nah, dont, think, goes, usf, lives, around, t...  \n",
       "4  [freemsg, hey, darling, 3, weeks, word, back, ...  "
      ]
     },
     "execution_count": 47,
     "metadata": {},
     "output_type": "execute_result"
    }
   ],
   "source": [
    "df['Clean_Words'] = df['Body'].apply(clean_words)\n",
    "df.head()"
   ]
  },
  {
   "cell_type": "code",
   "execution_count": 48,
   "metadata": {},
   "outputs": [
    {
     "data": {
      "text/html": [
       "<div>\n",
       "<style scoped>\n",
       "    .dataframe tbody tr th:only-of-type {\n",
       "        vertical-align: middle;\n",
       "    }\n",
       "\n",
       "    .dataframe tbody tr th {\n",
       "        vertical-align: top;\n",
       "    }\n",
       "\n",
       "    .dataframe thead th {\n",
       "        text-align: right;\n",
       "    }\n",
       "</style>\n",
       "<table border=\"1\" class=\"dataframe\">\n",
       "  <thead>\n",
       "    <tr style=\"text-align: right;\">\n",
       "      <th></th>\n",
       "      <th>Label</th>\n",
       "      <th>Body</th>\n",
       "      <th>Length</th>\n",
       "      <th>Clean_Words</th>\n",
       "    </tr>\n",
       "  </thead>\n",
       "  <tbody>\n",
       "    <tr>\n",
       "      <th>0</th>\n",
       "      <td>ham</td>\n",
       "      <td>Ok lar... Joking wif u oni...</td>\n",
       "      <td>29</td>\n",
       "      <td>[ok, lar, joking, wif, u, oni]</td>\n",
       "    </tr>\n",
       "    <tr>\n",
       "      <th>1</th>\n",
       "      <td>spam</td>\n",
       "      <td>Free entry in 2 a wkly comp to win FA Cup fina...</td>\n",
       "      <td>155</td>\n",
       "      <td>[free, entry, 2, wkly, comp, win, fa, cup, fin...</td>\n",
       "    </tr>\n",
       "    <tr>\n",
       "      <th>2</th>\n",
       "      <td>ham</td>\n",
       "      <td>U dun say so early hor... U c already then say...</td>\n",
       "      <td>49</td>\n",
       "      <td>[u, dun, say, early, hor, u, c, already, say]</td>\n",
       "    </tr>\n",
       "    <tr>\n",
       "      <th>3</th>\n",
       "      <td>ham</td>\n",
       "      <td>Nah I don't think he goes to usf, he lives aro...</td>\n",
       "      <td>61</td>\n",
       "      <td>[nah, dont, think, goes, usf, lives, around, t...</td>\n",
       "    </tr>\n",
       "    <tr>\n",
       "      <th>4</th>\n",
       "      <td>spam</td>\n",
       "      <td>FreeMsg Hey there darling it's been 3 week's n...</td>\n",
       "      <td>147</td>\n",
       "      <td>[freemsg, hey, darling, 3, weeks, word, back, ...</td>\n",
       "    </tr>\n",
       "    <tr>\n",
       "      <th>5</th>\n",
       "      <td>ham</td>\n",
       "      <td>Even my brother is not like to speak with me. ...</td>\n",
       "      <td>77</td>\n",
       "      <td>[even, brother, like, speak, treat, like, aids...</td>\n",
       "    </tr>\n",
       "    <tr>\n",
       "      <th>6</th>\n",
       "      <td>ham</td>\n",
       "      <td>As per your request 'Melle Melle (Oru Minnamin...</td>\n",
       "      <td>160</td>\n",
       "      <td>[per, request, melle, melle, oru, minnaminungi...</td>\n",
       "    </tr>\n",
       "    <tr>\n",
       "      <th>7</th>\n",
       "      <td>spam</td>\n",
       "      <td>WINNER!! As a valued network customer you have...</td>\n",
       "      <td>157</td>\n",
       "      <td>[winner, valued, network, customer, selected, ...</td>\n",
       "    </tr>\n",
       "    <tr>\n",
       "      <th>8</th>\n",
       "      <td>spam</td>\n",
       "      <td>Had your mobile 11 months or more? U R entitle...</td>\n",
       "      <td>154</td>\n",
       "      <td>[mobile, 11, months, u, r, entitled, update, l...</td>\n",
       "    </tr>\n",
       "    <tr>\n",
       "      <th>9</th>\n",
       "      <td>ham</td>\n",
       "      <td>I'm gonna be home soon and i don't want to tal...</td>\n",
       "      <td>109</td>\n",
       "      <td>[im, gonna, home, soon, dont, want, talk, stuf...</td>\n",
       "    </tr>\n",
       "    <tr>\n",
       "      <th>10</th>\n",
       "      <td>spam</td>\n",
       "      <td>SIX chances to win CASH! From 100 to 20,000 po...</td>\n",
       "      <td>136</td>\n",
       "      <td>[six, chances, win, cash, 100, 20000, pounds, ...</td>\n",
       "    </tr>\n",
       "    <tr>\n",
       "      <th>11</th>\n",
       "      <td>spam</td>\n",
       "      <td>URGENT! You have won a 1 week FREE membership ...</td>\n",
       "      <td>155</td>\n",
       "      <td>[urgent, 1, week, free, membership, £100000, p...</td>\n",
       "    </tr>\n",
       "    <tr>\n",
       "      <th>12</th>\n",
       "      <td>ham</td>\n",
       "      <td>I've been searching for the right words to tha...</td>\n",
       "      <td>196</td>\n",
       "      <td>[ive, searching, right, words, thank, breather...</td>\n",
       "    </tr>\n",
       "    <tr>\n",
       "      <th>13</th>\n",
       "      <td>ham</td>\n",
       "      <td>I HAVE A DATE ON SUNDAY WITH WILL!!</td>\n",
       "      <td>35</td>\n",
       "      <td>[date, sunday]</td>\n",
       "    </tr>\n",
       "    <tr>\n",
       "      <th>14</th>\n",
       "      <td>spam</td>\n",
       "      <td>XXXMobileMovieClub: To use your credit, click ...</td>\n",
       "      <td>149</td>\n",
       "      <td>[xxxmobilemovieclub, use, credit, click, wap, ...</td>\n",
       "    </tr>\n",
       "  </tbody>\n",
       "</table>\n",
       "</div>"
      ],
      "text/plain": [
       "   Label                                               Body  Length  \\\n",
       "0    ham                      Ok lar... Joking wif u oni...      29   \n",
       "1   spam  Free entry in 2 a wkly comp to win FA Cup fina...     155   \n",
       "2    ham  U dun say so early hor... U c already then say...      49   \n",
       "3    ham  Nah I don't think he goes to usf, he lives aro...      61   \n",
       "4   spam  FreeMsg Hey there darling it's been 3 week's n...     147   \n",
       "5    ham  Even my brother is not like to speak with me. ...      77   \n",
       "6    ham  As per your request 'Melle Melle (Oru Minnamin...     160   \n",
       "7   spam  WINNER!! As a valued network customer you have...     157   \n",
       "8   spam  Had your mobile 11 months or more? U R entitle...     154   \n",
       "9    ham  I'm gonna be home soon and i don't want to tal...     109   \n",
       "10  spam  SIX chances to win CASH! From 100 to 20,000 po...     136   \n",
       "11  spam  URGENT! You have won a 1 week FREE membership ...     155   \n",
       "12   ham  I've been searching for the right words to tha...     196   \n",
       "13   ham                I HAVE A DATE ON SUNDAY WITH WILL!!      35   \n",
       "14  spam  XXXMobileMovieClub: To use your credit, click ...     149   \n",
       "\n",
       "                                          Clean_Words  \n",
       "0                      [ok, lar, joking, wif, u, oni]  \n",
       "1   [free, entry, 2, wkly, comp, win, fa, cup, fin...  \n",
       "2       [u, dun, say, early, hor, u, c, already, say]  \n",
       "3   [nah, dont, think, goes, usf, lives, around, t...  \n",
       "4   [freemsg, hey, darling, 3, weeks, word, back, ...  \n",
       "5   [even, brother, like, speak, treat, like, aids...  \n",
       "6   [per, request, melle, melle, oru, minnaminungi...  \n",
       "7   [winner, valued, network, customer, selected, ...  \n",
       "8   [mobile, 11, months, u, r, entitled, update, l...  \n",
       "9   [im, gonna, home, soon, dont, want, talk, stuf...  \n",
       "10  [six, chances, win, cash, 100, 20000, pounds, ...  \n",
       "11  [urgent, 1, week, free, membership, £100000, p...  \n",
       "12  [ive, searching, right, words, thank, breather...  \n",
       "13                                     [date, sunday]  \n",
       "14  [xxxmobilemovieclub, use, credit, click, wap, ...  "
      ]
     },
     "execution_count": 48,
     "metadata": {},
     "output_type": "execute_result"
    }
   ],
   "source": [
    "df.head(15)"
   ]
  },
  {
   "cell_type": "markdown",
   "metadata": {},
   "source": [
    "# Token creation using CountVectorizer\n",
    "Example"
   ]
  },
  {
   "cell_type": "code",
   "execution_count": 49,
   "metadata": {},
   "outputs": [],
   "source": [
    "# Token creation for clean words \n",
    "from sklearn.feature_extraction.text import CountVectorizer"
   ]
  },
  {
   "cell_type": "code",
   "execution_count": 50,
   "metadata": {},
   "outputs": [
    {
     "data": {
      "text/plain": [
       "['This is the first class with SL',\n",
       " 'This is the data science with python class of SL',\n",
       " 'Machine Learning class with SL']"
      ]
     },
     "execution_count": 50,
     "metadata": {},
     "output_type": "execute_result"
    }
   ],
   "source": [
    "# Corpus - each entry of the document \n",
    "corpus=['This is the first class with SL',\n",
    "        'This is the data science with python class of SL',\n",
    "        'Machine Learning class with SL']\n",
    "corpus        "
   ]
  },
  {
   "cell_type": "code",
   "execution_count": 51,
   "metadata": {},
   "outputs": [],
   "source": [
    "# Converting the doc into tokens of one gram \n",
    "vectorizer = CountVectorizer(ngram_range=(1,1))"
   ]
  },
  {
   "cell_type": "code",
   "execution_count": 52,
   "metadata": {},
   "outputs": [
    {
     "data": {
      "text/plain": [
       "<3x13 sparse matrix of type '<class 'numpy.int64'>'\n",
       "\twith 22 stored elements in Compressed Sparse Row format>"
      ]
     },
     "execution_count": 52,
     "metadata": {},
     "output_type": "execute_result"
    }
   ],
   "source": [
    "X = vectorizer.fit_transform(corpus)\n",
    "X"
   ]
  },
  {
   "cell_type": "code",
   "execution_count": 53,
   "metadata": {},
   "outputs": [
    {
     "name": "stdout",
     "output_type": "stream",
     "text": [
      "['This is the first class with SL', 'This is the data science with python class of SL', 'Machine Learning class with SL']\n"
     ]
    },
    {
     "data": {
      "text/plain": [
       "array([[1, 0, 1, 1, 0, 0, 0, 0, 0, 1, 1, 1, 1],\n",
       "       [1, 1, 0, 1, 0, 0, 1, 1, 1, 1, 1, 1, 1],\n",
       "       [1, 0, 0, 0, 1, 1, 0, 0, 0, 1, 0, 0, 1]], dtype=int64)"
      ]
     },
     "execution_count": 53,
     "metadata": {},
     "output_type": "execute_result"
    }
   ],
   "source": [
    "print(corpus)\n",
    "X.toarray()"
   ]
  },
  {
   "cell_type": "markdown",
   "metadata": {},
   "source": [
    "The 0s and 1s indicate if the feature_name is present in that document/index string or not. Like every string contains 'class' so first element for each doc is 1"
   ]
  },
  {
   "cell_type": "code",
   "execution_count": 54,
   "metadata": {},
   "outputs": [
    {
     "data": {
      "text/plain": [
       "['class',\n",
       " 'data',\n",
       " 'first',\n",
       " 'is',\n",
       " 'learning',\n",
       " 'machine',\n",
       " 'of',\n",
       " 'python',\n",
       " 'science',\n",
       " 'sl',\n",
       " 'the',\n",
       " 'this',\n",
       " 'with']"
      ]
     },
     "execution_count": 54,
     "metadata": {},
     "output_type": "execute_result"
    }
   ],
   "source": [
    "vectorizer.get_feature_names()"
   ]
  },
  {
   "cell_type": "code",
   "execution_count": 55,
   "metadata": {},
   "outputs": [],
   "source": [
    "# For dataframe\n",
    "\n",
    "#Instance creation\n",
    "vectorizer = CountVectorizer(ngram_range=(1,1),analyzer=clean_words)\n",
    "bag_of_words = vectorizer"
   ]
  },
  {
   "cell_type": "code",
   "execution_count": 56,
   "metadata": {},
   "outputs": [],
   "source": [
    "bag_of_words_transformed = bag_of_words.fit(df['Body'])"
   ]
  },
  {
   "cell_type": "code",
   "execution_count": 57,
   "metadata": {},
   "outputs": [
    {
     "data": {
      "text/plain": [
       "{'ok': 6004,\n",
       " 'lar': 4895,\n",
       " 'joking': 4663,\n",
       " 'wif': 9101,\n",
       " 'u': 8624,\n",
       " 'oni': 6036,\n",
       " 'free': 3570,\n",
       " 'entry': 3151,\n",
       " '2': 416,\n",
       " 'wkly': 9158,\n",
       " 'comp': 2315,\n",
       " 'win': 9115,\n",
       " 'fa': 3289,\n",
       " 'cup': 2540,\n",
       " 'final': 3414,\n",
       " 'tkts': 8396,\n",
       " '21st': 436,\n",
       " 'may': 5343,\n",
       " '2005': 423,\n",
       " 'text': 8231,\n",
       " '87121': 849,\n",
       " 'receive': 6846,\n",
       " 'questionstd': 6736,\n",
       " 'txt': 8608,\n",
       " 'ratetcs': 6789,\n",
       " 'apply': 1241,\n",
       " '08452810075over18s': 72,\n",
       " 'dun': 3001,\n",
       " 'say': 7206,\n",
       " 'early': 3022,\n",
       " 'hor': 4218,\n",
       " 'c': 1909,\n",
       " 'already': 1129,\n",
       " 'nah': 5691,\n",
       " 'dont': 2906,\n",
       " 'think': 8307,\n",
       " 'goes': 3799,\n",
       " 'usf': 8758,\n",
       " 'lives': 5058,\n",
       " 'around': 1292,\n",
       " 'though': 8326,\n",
       " 'freemsg': 3578,\n",
       " 'hey': 4113,\n",
       " 'darling': 2604,\n",
       " '3': 527,\n",
       " 'weeks': 9021,\n",
       " 'word': 9192,\n",
       " 'back': 1441,\n",
       " 'id': 4339,\n",
       " 'like': 5008,\n",
       " 'fun': 3645,\n",
       " 'still': 7873,\n",
       " 'tb': 8161,\n",
       " 'xxx': 9332,\n",
       " 'std': 7848,\n",
       " 'chgs': 2144,\n",
       " 'send': 7301,\n",
       " '£150': 9476,\n",
       " 'rcv': 6801,\n",
       " 'even': 3198,\n",
       " 'brother': 1825,\n",
       " 'speak': 7719,\n",
       " 'treat': 8533,\n",
       " 'aids': 1075,\n",
       " 'patent': 6236,\n",
       " 'per': 6278,\n",
       " 'request': 6959,\n",
       " 'melle': 5386,\n",
       " 'oru': 6100,\n",
       " 'minnaminunginte': 5469,\n",
       " 'nurungu': 5931,\n",
       " 'vettam': 8823,\n",
       " 'set': 7330,\n",
       " 'callertune': 1945,\n",
       " 'callers': 1944,\n",
       " 'press': 6573,\n",
       " '9': 887,\n",
       " 'copy': 2420,\n",
       " 'friends': 3603,\n",
       " 'winner': 9126,\n",
       " 'valued': 8794,\n",
       " 'network': 5767,\n",
       " 'customer': 2553,\n",
       " 'selected': 7287,\n",
       " 'receivea': 6847,\n",
       " '£900': 9517,\n",
       " 'prize': 6607,\n",
       " 'reward': 7018,\n",
       " 'claim': 2205,\n",
       " 'call': 1926,\n",
       " '09061701461': 218,\n",
       " 'code': 2266,\n",
       " 'kl341': 4811,\n",
       " 'valid': 8790,\n",
       " '12': 324,\n",
       " 'hours': 4237,\n",
       " 'mobile': 5528,\n",
       " '11': 313,\n",
       " 'months': 5573,\n",
       " 'r': 6750,\n",
       " 'entitled': 3148,\n",
       " 'update': 8713,\n",
       " 'latest': 4912,\n",
       " 'colour': 2289,\n",
       " 'mobiles': 5529,\n",
       " 'camera': 1962,\n",
       " 'co': 2255,\n",
       " '08002986030': 57,\n",
       " 'im': 4369,\n",
       " 'gonna': 3816,\n",
       " 'home': 4184,\n",
       " 'soon': 7669,\n",
       " 'want': 8946,\n",
       " 'talk': 8127,\n",
       " 'stuff': 7947,\n",
       " 'anymore': 1208,\n",
       " 'tonight': 8455,\n",
       " 'k': 4701,\n",
       " 'ive': 4567,\n",
       " 'cried': 2501,\n",
       " 'enough': 3139,\n",
       " 'today': 8413,\n",
       " 'six': 7521,\n",
       " 'chances': 2081,\n",
       " 'cash': 2024,\n",
       " '100': 293,\n",
       " '20000': 420,\n",
       " 'pounds': 6510,\n",
       " 'csh11': 2518,\n",
       " '87575': 853,\n",
       " 'cost': 2433,\n",
       " '150pday': 352,\n",
       " '6days': 736,\n",
       " '16': 376,\n",
       " 'tsandcs': 8568,\n",
       " 'reply': 6951,\n",
       " 'hl': 4150,\n",
       " '4': 587,\n",
       " 'info': 4432,\n",
       " 'urgent': 8736,\n",
       " '1': 291,\n",
       " 'week': 9016,\n",
       " 'membership': 5392,\n",
       " '£100000': 9470,\n",
       " 'jackpot': 4585,\n",
       " '81010': 799,\n",
       " 'tc': 8163,\n",
       " 'wwwdbuknet': 9275,\n",
       " 'lccltd': 4930,\n",
       " 'pobox': 6422,\n",
       " '4403ldnw1a7rw18': 608,\n",
       " 'searching': 7254,\n",
       " 'right': 7030,\n",
       " 'words': 9195,\n",
       " 'thank': 8249,\n",
       " 'breather': 1794,\n",
       " 'promise': 6646,\n",
       " 'wont': 9183,\n",
       " 'take': 8118,\n",
       " 'help': 4081,\n",
       " 'granted': 3871,\n",
       " 'fulfil': 3641,\n",
       " 'wonderful': 9180,\n",
       " 'blessing': 1665,\n",
       " 'times': 8371,\n",
       " 'date': 2613,\n",
       " 'sunday': 8015,\n",
       " 'xxxmobilemovieclub': 9333,\n",
       " 'use': 8752,\n",
       " 'credit': 2491,\n",
       " 'click': 2227,\n",
       " 'wap': 8951,\n",
       " 'link': 5031,\n",
       " 'next': 5786,\n",
       " 'message': 5417,\n",
       " 'httpwap': 4267,\n",
       " 'xxxmobilemovieclubcomnqjkgighjjgcbl': 9334,\n",
       " 'oh': 5997,\n",
       " 'kim': 4778,\n",
       " 'watching': 8972,\n",
       " 'eh': 3072,\n",
       " 'remember': 6918,\n",
       " 'spell': 7735,\n",
       " 'name': 5697,\n",
       " 'yes': 9372,\n",
       " 'v': 8782,\n",
       " 'naughty': 5723,\n",
       " 'make': 5261,\n",
       " 'wet': 9058,\n",
       " 'fine': 3422,\n",
       " 'that\\x92s': 8267,\n",
       " 'way': 8983,\n",
       " 'feel': 3366,\n",
       " 'gota': 3843,\n",
       " 'b': 1420,\n",
       " 'england': 3130,\n",
       " 'macedonia': 5223,\n",
       " 'miss': 5488,\n",
       " 'goalsteam': 3791,\n",
       " 'news': 5781,\n",
       " 'ur': 8733,\n",
       " 'national': 5716,\n",
       " 'team': 8177,\n",
       " '87077': 848,\n",
       " 'eg': 3063,\n",
       " 'trywales': 8566,\n",
       " 'scotland': 7233,\n",
       " '4txtú120': 655,\n",
       " 'poboxox36504w45wq': 6434,\n",
       " 'seriously': 7323,\n",
       " 'i‘m': 4577,\n",
       " 'going': 3804,\n",
       " 'try': 8563,\n",
       " 'ha': 3954,\n",
       " 'ü': 9521,\n",
       " 'pay': 6247,\n",
       " 'first': 3442,\n",
       " 'da': 2569,\n",
       " 'stock': 7877,\n",
       " 'comin': 2305,\n",
       " 'aft': 1037,\n",
       " 'finish': 3428,\n",
       " 'lunch': 5189,\n",
       " 'go': 3785,\n",
       " 'str': 7904,\n",
       " 'lor': 5114,\n",
       " 'ard': 1268,\n",
       " 'smth': 7607,\n",
       " 'ffffffffff': 3384,\n",
       " 'alright': 1131,\n",
       " 'meet': 5371,\n",
       " 'sooner': 7671,\n",
       " 'forced': 3520,\n",
       " 'eat': 3035,\n",
       " 'slice': 7556,\n",
       " 'really': 6826,\n",
       " 'hungry': 4295,\n",
       " 'tho': 8322,\n",
       " 'sucks': 7985,\n",
       " 'mark': 5297,\n",
       " 'getting': 3744,\n",
       " 'worried': 9212,\n",
       " 'knows': 4823,\n",
       " 'sick': 7464,\n",
       " 'turn': 8589,\n",
       " 'pizza': 6372,\n",
       " 'lol': 5091,\n",
       " 'always': 1141,\n",
       " 'convincing': 2406,\n",
       " 'catch': 2036,\n",
       " 'bus': 1879,\n",
       " 'frying': 3629,\n",
       " 'egg': 3067,\n",
       " 'tea': 8171,\n",
       " 'eating': 3038,\n",
       " 'moms': 5552,\n",
       " 'left': 4952,\n",
       " 'dinner': 2813,\n",
       " 'love': 5140,\n",
       " 'amp': 1157,\n",
       " 'packing': 6159,\n",
       " 'car': 1990,\n",
       " 'ill': 4365,\n",
       " 'let': 4975,\n",
       " 'know': 4818,\n",
       " 'theres': 8292,\n",
       " 'room': 7076,\n",
       " 'ahhh': 1066,\n",
       " 'work': 9198,\n",
       " 'vaguely': 8785,\n",
       " 'wait': 8916,\n",
       " 'thats': 8266,\n",
       " 'clear': 2221,\n",
       " 'sure': 8043,\n",
       " 'sarcastic': 7180,\n",
       " 'x': 9312,\n",
       " 'doesnt': 2877,\n",
       " 'live': 5054,\n",
       " 'us': 8748,\n",
       " 'yeah': 9359,\n",
       " 'got': 3842,\n",
       " 'apologetic': 1229,\n",
       " 'n': 5684,\n",
       " 'fallen': 3316,\n",
       " 'actin': 975,\n",
       " 'spoilt': 7763,\n",
       " 'child': 2160,\n",
       " 'caught': 2040,\n",
       " 'till': 8365,\n",
       " 'badly': 1447,\n",
       " 'cheers': 2126,\n",
       " 'tell': 8196,\n",
       " 'anything': 1214,\n",
       " 'fear': 3358,\n",
       " 'fainting': 3306,\n",
       " 'housework': 4242,\n",
       " 'quick': 6737,\n",
       " 'cuppa': 2542,\n",
       " 'thanks': 8250,\n",
       " 'subscription': 7974,\n",
       " 'ringtone': 7039,\n",
       " 'uk': 8640,\n",
       " 'charged': 2093,\n",
       " '£5month': 9509,\n",
       " 'please': 6401,\n",
       " 'confirm': 2361,\n",
       " 'replying': 6953,\n",
       " 'yup': 9443,\n",
       " 'look': 5102,\n",
       " 'timings': 8378,\n",
       " 'msg': 5616,\n",
       " 'xuhui': 9328,\n",
       " 'learn': 4941,\n",
       " '2nd': 501,\n",
       " 'lesson': 4973,\n",
       " '8am': 876,\n",
       " 'oops': 6054,\n",
       " 'roommates': 7079,\n",
       " 'done': 2903,\n",
       " 'see': 7271,\n",
       " 'letter': 4977,\n",
       " 'decide': 2668,\n",
       " 'hello': 4074,\n",
       " 'hows': 4249,\n",
       " 'saturday': 7196,\n",
       " 'texting': 8239,\n",
       " 'youd': 9406,\n",
       " 'decided': 2669,\n",
       " 'tomo': 8440,\n",
       " 'trying': 8565,\n",
       " 'invite': 4496,\n",
       " 'pls': 6409,\n",
       " 'ahead': 1064,\n",
       " 'watts': 8981,\n",
       " 'wanted': 8948,\n",
       " 'great': 3882,\n",
       " 'weekend': 9018,\n",
       " 'abiola': 927,\n",
       " 'forget': 3526,\n",
       " 'need': 5742,\n",
       " 'crave': 2481,\n",
       " 'sweet': 8074,\n",
       " 'arabian': 1265,\n",
       " 'steed': 7855,\n",
       " 'mmmmmm': 5518,\n",
       " 'yummy': 9438,\n",
       " '07732584351': 29,\n",
       " 'rodger': 7065,\n",
       " 'burns': 1876,\n",
       " 'tried': 8542,\n",
       " 'sms': 7601,\n",
       " 'nokia': 5851,\n",
       " 'camcorder': 1960,\n",
       " '08000930705': 53,\n",
       " 'delivery': 2707,\n",
       " 'tomorrow': 8443,\n",
       " 'seeing': 7273,\n",
       " 'hope': 4208,\n",
       " 'man': 5271,\n",
       " 'well': 9035,\n",
       " 'endowed': 3120,\n",
       " 'ltgt': 5174,\n",
       " 'inches': 4400,\n",
       " 'callsmessagesmissed': 1953,\n",
       " 'calls': 1951,\n",
       " 'didnt': 2781,\n",
       " 'get': 3736,\n",
       " 'hep': 4095,\n",
       " 'immunisation': 4381,\n",
       " 'nigeria': 5799,\n",
       " 'fair': 3307,\n",
       " 'hopefully': 4212,\n",
       " 'tyler': 8618,\n",
       " 'cant': 1979,\n",
       " 'could': 2445,\n",
       " 'maybe': 5345,\n",
       " 'ask': 1320,\n",
       " 'bit': 1640,\n",
       " 'stubborn': 7935,\n",
       " 'hospital': 4225,\n",
       " 'kept': 4749,\n",
       " 'telling': 8197,\n",
       " 'weak': 8989,\n",
       " 'sucker': 7983,\n",
       " 'hospitals': 4226,\n",
       " 'suckers': 7984,\n",
       " 'thinked': 8308,\n",
       " 'time': 8367,\n",
       " 'saw': 7205,\n",
       " 'class': 2213,\n",
       " 'gram': 3863,\n",
       " 'usually': 8769,\n",
       " 'runs': 7123,\n",
       " 'half': 3971,\n",
       " 'eighth': 3075,\n",
       " 'smarter': 7579,\n",
       " 'gets': 3740,\n",
       " 'almost': 1125,\n",
       " 'whole': 9090,\n",
       " 'second': 7258,\n",
       " 'fyi': 3660,\n",
       " 'ride': 7029,\n",
       " 'morning': 5582,\n",
       " 'hes': 4108,\n",
       " 'crashing': 2480,\n",
       " 'place': 6374,\n",
       " 'wow': 9231,\n",
       " 'never': 5772,\n",
       " 'realized': 6824,\n",
       " 'embarassed': 3100,\n",
       " 'accomodations': 955,\n",
       " 'thought': 8327,\n",
       " 'liked': 5009,\n",
       " 'since': 7491,\n",
       " 'best': 1594,\n",
       " 'seemed': 7277,\n",
       " 'happy': 4005,\n",
       " 'cave': 2044,\n",
       " 'sorry': 7681,\n",
       " 'give': 3766,\n",
       " 'offered': 5977,\n",
       " 'embarassing': 3101,\n",
       " 'ac': 941,\n",
       " 'sptv': 7786,\n",
       " 'new': 5776,\n",
       " 'jersey': 4629,\n",
       " 'devils': 2760,\n",
       " 'detroit': 2754,\n",
       " 'red': 6870,\n",
       " 'wings': 9124,\n",
       " 'play': 6390,\n",
       " 'ice': 4334,\n",
       " 'hockey': 4168,\n",
       " 'correct': 2425,\n",
       " 'incorrect': 4411,\n",
       " 'end': 3115,\n",
       " 'mallika': 5270,\n",
       " 'sherawat': 7384,\n",
       " 'yesterday': 9387,\n",
       " 'find': 3419,\n",
       " 'lturlgt': 5177,\n",
       " 'congrats': 2368,\n",
       " 'year': 9361,\n",
       " 'special': 7721,\n",
       " 'cinema': 2200,\n",
       " 'pass': 6224,\n",
       " '09061209465': 213,\n",
       " 'suprman': 8041,\n",
       " 'matrix3': 5330,\n",
       " 'starwars3': 7835,\n",
       " 'etc': 3184,\n",
       " 'bx420ip45we': 1902,\n",
       " '150pm': 353,\n",
       " 'later': 4910,\n",
       " 'meeting': 5374,\n",
       " 'reached': 6807,\n",
       " 'yesgauti': 9380,\n",
       " 'sehwag': 7284,\n",
       " 'odi': 5970,\n",
       " 'series': 7321,\n",
       " 'pick': 6342,\n",
       " 'burger': 1871,\n",
       " 'move': 5600,\n",
       " 'pain': 6166,\n",
       " 'killing': 4775,\n",
       " 'good': 3818,\n",
       " 'joke': 4658,\n",
       " 'girls': 3763,\n",
       " 'situation': 7517,\n",
       " 'seekers': 7274,\n",
       " 'part': 6211,\n",
       " 'checking': 2120,\n",
       " 'iq': 4511,\n",
       " 'took': 8462,\n",
       " 'forever': 3523,\n",
       " 'come': 2297,\n",
       " 'double': 2923,\n",
       " 'check': 2116,\n",
       " 'hair': 3966,\n",
       " 'dresser': 2958,\n",
       " 'said': 7148,\n",
       " 'wun': 9261,\n",
       " 'cut': 2557,\n",
       " 'short': 7425,\n",
       " 'nice': 5792,\n",
       " 'pleased': 6402,\n",
       " 'advise': 1020,\n",
       " 'following': 3501,\n",
       " 'recent': 6850,\n",
       " 'review': 7016,\n",
       " 'mob': 5526,\n",
       " 'awarded': 1407,\n",
       " '£1500': 9477,\n",
       " 'bonus': 1709,\n",
       " '09066364589': 262,\n",
       " 'song': 7663,\n",
       " 'dedicated': 2679,\n",
       " 'day': 2626,\n",
       " 'dedicate': 2678,\n",
       " 'valuable': 8792,\n",
       " 'frnds': 3613,\n",
       " 'rply': 7096,\n",
       " 'complimentary': 2334,\n",
       " 'trip': 8543,\n",
       " 'eurodisinc': 3191,\n",
       " 'trav': 8525,\n",
       " 'acoentry41': 970,\n",
       " '£1000': 9468,\n",
       " 'dis': 2826,\n",
       " '186£150morefrmmob': 385,\n",
       " 'shracomorsglsuplt10': 7449,\n",
       " 'ls1': 5163,\n",
       " '3aj': 560,\n",
       " 'hear': 4049,\n",
       " 'divorce': 2855,\n",
       " 'barbie': 1478,\n",
       " 'comes': 2301,\n",
       " 'kens': 4747,\n",
       " 'plane': 6381,\n",
       " 'month': 5569,\n",
       " 'wah': 8909,\n",
       " 'lucky': 5182,\n",
       " 'save': 7201,\n",
       " 'money': 5557,\n",
       " 'hee': 4065,\n",
       " 'finished': 3430,\n",
       " 'hi': 4119,\n",
       " 'babe': 1429,\n",
       " 'wanna': 8944,\n",
       " 'something': 7649,\n",
       " 'xx': 9329,\n",
       " 'kkwhere': 4808,\n",
       " 'youhow': 9409,\n",
       " 'performed': 6285,\n",
       " 'waiting': 8920,\n",
       " 'machan': 5225,\n",
       " 'cool': 2412,\n",
       " 'gentleman': 3727,\n",
       " 'dignity': 2803,\n",
       " 'respect': 6980,\n",
       " 'peoples': 6277,\n",
       " 'much': 5636,\n",
       " 'shy': 7459,\n",
       " 'pa': 6154,\n",
       " 'operate': 6061,\n",
       " 'looking': 5106,\n",
       " 'job': 4644,\n",
       " 'tas': 8145,\n",
       " 'earn': 3023,\n",
       " 'ah': 1062,\n",
       " 'stop': 7887,\n",
       " 'urgnt': 8740,\n",
       " 'real': 6817,\n",
       " 'yo': 9397,\n",
       " 'tickets': 8356,\n",
       " 'one': 6032,\n",
       " 'jacket': 4584,\n",
       " 'used': 8753,\n",
       " 'multis': 5647,\n",
       " 'started': 7828,\n",
       " 'requests': 6960,\n",
       " 'came': 1961,\n",
       " 'bed': 1548,\n",
       " 'coins': 2273,\n",
       " 'factory': 3297,\n",
       " 'gotta': 3847,\n",
       " 'nitros': 5823,\n",
       " 'ela': 3080,\n",
       " 'kanoil': 4723,\n",
       " 'download': 2931,\n",
       " 'wen': 9041,\n",
       " 'don‘t': 2913,\n",
       " 'stand': 7816,\n",
       " 'close': 2234,\n",
       " 'you‘ll': 9430,\n",
       " 'another': 1192,\n",
       " 'night': 5801,\n",
       " 'spent': 7740,\n",
       " 'late': 4905,\n",
       " 'afternoon': 1039,\n",
       " 'casualty': 2034,\n",
       " 'means': 5357,\n",
       " 'havent': 4030,\n",
       " 'stuff42moro': 7948,\n",
       " 'includes': 4404,\n",
       " 'sheets': 7379,\n",
       " 'smile': 7588,\n",
       " 'pleasure': 6404,\n",
       " 'trouble': 8549,\n",
       " 'pours': 6512,\n",
       " 'rain': 6762,\n",
       " 'sum1': 8006,\n",
       " 'hurts': 4310,\n",
       " 'becoz': 1546,\n",
       " 'someone': 7642,\n",
       " 'loves': 5150,\n",
       " 'smiling': 7592,\n",
       " 'service': 7326,\n",
       " 'representative': 6957,\n",
       " '0800': 49,\n",
       " '169': 378,\n",
       " '6031': 704,\n",
       " '10am9pm': 307,\n",
       " 'guaranteed': 3921,\n",
       " '£5000': 9504,\n",
       " 'planning': 6386,\n",
       " 'buy': 1891,\n",
       " 'lido': 4990,\n",
       " '530': 676,\n",
       " 'show': 7440,\n",
       " 'e': 3015,\n",
       " 'collected': 2282,\n",
       " 'simply': 7488,\n",
       " 'password': 6232,\n",
       " 'mix': 5508,\n",
       " '85069': 834,\n",
       " 'verify': 8819,\n",
       " 'usher': 8760,\n",
       " 'britney': 1815,\n",
       " 'fml': 3491,\n",
       " 'po': 6420,\n",
       " 'box': 1745,\n",
       " '5249': 673,\n",
       " 'mk17': 5511,\n",
       " '92h': 892,\n",
       " '450ppw': 619,\n",
       " 'telugu': 8202,\n",
       " 'moviewat': 5605,\n",
       " 'abt': 936,\n",
       " 'loads': 5068,\n",
       " 'loans': 5070,\n",
       " 'wk': 9154,\n",
       " 'hols': 4182,\n",
       " 'run': 7120,\n",
       " 'forgot': 3531,\n",
       " 'hairdressers': 3968,\n",
       " 'appointment': 1245,\n",
       " 'four': 3551,\n",
       " 'shower': 7442,\n",
       " 'beforehand': 1563,\n",
       " 'cause': 2041,\n",
       " 'prob': 6613,\n",
       " 'coffee': 2268,\n",
       " 'animation': 1179,\n",
       " 'nothing': 5885,\n",
       " 'else': 3094,\n",
       " 'okay': 6005,\n",
       " 'price': 6586,\n",
       " 'long': 5098,\n",
       " 'legal': 4955,\n",
       " 'ave': 1394,\n",
       " 'ams': 1161,\n",
       " 'gone': 3813,\n",
       " '4the': 652,\n",
       " 'driving': 2967,\n",
       " 'test': 8225,\n",
       " 'yet': 9388,\n",
       " 'youre': 9419,\n",
       " 'mean': 5353,\n",
       " 'guess': 3929,\n",
       " 'gave': 3695,\n",
       " 'boston': 1731,\n",
       " 'men': 5397,\n",
       " 'changed': 2083,\n",
       " 'search': 7253,\n",
       " 'location': 5073,\n",
       " 'nyc': 5941,\n",
       " 'cuz': 2564,\n",
       " 'signin': 7476,\n",
       " 'page': 6162,\n",
       " 'says': 7211,\n",
       " 'umma': 8649,\n",
       " 'life': 4993,\n",
       " 'vava': 8806,\n",
       " 'lot': 5124,\n",
       " 'dear': 2650,\n",
       " 'wishes': 9139,\n",
       " 'birthday': 1638,\n",
       " 'making': 5265,\n",
       " 'truly': 8557,\n",
       " 'memorable': 5394,\n",
       " 'aight': 1077,\n",
       " 'hit': 4141,\n",
       " 'would': 9227,\n",
       " 'ip': 4504,\n",
       " 'address': 994,\n",
       " 'considering': 2379,\n",
       " 'computer': 2341,\n",
       " 'isnt': 4530,\n",
       " 'minecraft': 5465,\n",
       " 'server': 7325,\n",
       " 'grumpy': 3913,\n",
       " 'old': 6022,\n",
       " 'people': 6276,\n",
       " 'mom': 5549,\n",
       " 'better': 1602,\n",
       " 'lying': 5205,\n",
       " 'jokes': 4660,\n",
       " 'worry': 9215,\n",
       " 'busy': 1885,\n",
       " 'plural': 6414,\n",
       " 'noun': 5894,\n",
       " 'research': 6966,\n",
       " 'dinnermsg': 2814,\n",
       " 'cos': 2431,\n",
       " 'things': 8306,\n",
       " 'scared': 7218,\n",
       " 'mah': 5249,\n",
       " 'loud': 5135,\n",
       " 'gent': 3725,\n",
       " 'contact': 2384,\n",
       " 'last': 4902,\n",
       " 'weekends': 9019,\n",
       " 'draw': 2945,\n",
       " 'shows': 7448,\n",
       " '09064012160': 237,\n",
       " 'k52': 4702,\n",
       " '12hrs': 335,\n",
       " '150ppm': 363,\n",
       " 'wa': 8904,\n",
       " 'openin': 6058,\n",
       " 'sentence': 7314,\n",
       " 'formal': 3534,\n",
       " 'anyway': 1218,\n",
       " 'juz': 4700,\n",
       " 'tt': 8575,\n",
       " 'eatin': 3037,\n",
       " 'puttin': 6713,\n",
       " 'weighthaha': 9026,\n",
       " 'anythin': 1213,\n",
       " 'happened': 3997,\n",
       " 'entered': 3141,\n",
       " 'cabin': 1912,\n",
       " 'bday': 1531,\n",
       " 'boss': 1730,\n",
       " 'felt': 3376,\n",
       " 'askd': 1321,\n",
       " 'invited': 4497,\n",
       " 'apartment': 1223,\n",
       " 'went': 9044,\n",
       " 'specially': 7726,\n",
       " 'holiday': 4178,\n",
       " 'flights': 3468,\n",
       " 'inc': 4398,\n",
       " 'operator': 6062,\n",
       " '0871277810910pmin': 122,\n",
       " '18': 381,\n",
       " 'goodo': 3832,\n",
       " 'must': 5667,\n",
       " 'friday': 3596,\n",
       " 'eggpotato': 3068,\n",
       " 'ratio': 6791,\n",
       " 'tortilla': 8481,\n",
       " 'needed': 5744,\n",
       " 'hmmmy': 4163,\n",
       " 'uncle': 8656,\n",
       " 'informed': 4436,\n",
       " 'paying': 6253,\n",
       " 'school': 7224,\n",
       " 'directly': 2820,\n",
       " 'food': 3509,\n",
       " 'private': 6604,\n",
       " '2004': 422,\n",
       " 'account': 959,\n",
       " 'statement': 7838,\n",
       " '07742676969': 31,\n",
       " '786': 766,\n",
       " 'unredeemed': 8698,\n",
       " 'points': 6444,\n",
       " '08719180248': 170,\n",
       " 'identifier': 4346,\n",
       " '45239': 621,\n",
       " 'expires': 3267,\n",
       " '£2000': 9489,\n",
       " 'caller': 1943,\n",
       " '5903': 681,\n",
       " 'landline': 4882,\n",
       " '09064019788': 243,\n",
       " 'box42wr29c': 1757,\n",
       " 'applespairsall': 1239,\n",
       " 'malarky': 5267,\n",
       " 'todays': 8419,\n",
       " 'voda': 8873,\n",
       " 'numbers': 5927,\n",
       " 'ending': 3117,\n",
       " '7548': 761,\n",
       " '350': 550,\n",
       " 'award': 1406,\n",
       " 'match': 5318,\n",
       " '08712300220': 104,\n",
       " 'quoting': 6749,\n",
       " '4041': 592,\n",
       " 'standard': 7817,\n",
       " 'rates': 6788,\n",
       " 'app': 1233,\n",
       " 'sao': 7174,\n",
       " 'mu': 5635,\n",
       " 'predict': 6547,\n",
       " 'wat': 8967,\n",
       " 'üll': 9522,\n",
       " 'buying': 1894,\n",
       " 'knowyetunde': 4826,\n",
       " 'hasnt': 4017,\n",
       " 'sent': 7312,\n",
       " 'bother': 1733,\n",
       " 'sending': 7304,\n",
       " 'involve': 4501,\n",
       " 'shouldnt': 7434,\n",
       " 'imposed': 4387,\n",
       " 'apologise': 1230,\n",
       " 'girl': 3759,\n",
       " 'del': 2697,\n",
       " 'bak': 1455,\n",
       " 'sum': 8005,\n",
       " 'lucyxx': 5186,\n",
       " 'kkhow': 4802,\n",
       " 'tmorrowpls': 8401,\n",
       " 'accomodate': 954,\n",
       " 'answer': 1195,\n",
       " 'question': 6733,\n",
       " 'sunshine': 8022,\n",
       " 'quiz': 6744,\n",
       " 'q': 6719,\n",
       " 'top': 8471,\n",
       " 'sony': 7666,\n",
       " 'dvd': 3010,\n",
       " 'player': 6392,\n",
       " 'country': 2452,\n",
       " 'algarve': 1106,\n",
       " 'ansr': 1194,\n",
       " '82277': 805,\n",
       " 'sptyrone': 7787,\n",
       " 'laid': 4873,\n",
       " 'dogging': 2884,\n",
       " 'locations': 5074,\n",
       " 'direct': 2819,\n",
       " 'join': 4653,\n",
       " 'uks': 8643,\n",
       " 'largest': 4899,\n",
       " 'bt': 1842,\n",
       " 'txting': 8613,\n",
       " 'gravel': 3876,\n",
       " '69888': 730,\n",
       " 'nt': 5915,\n",
       " 'ec2a': 3040,\n",
       " '31pmsg150p': 543,\n",
       " 'haf': 3960,\n",
       " 'msn': 5628,\n",
       " 'yijuehotmailcom': 9394,\n",
       " 'rooms': 7080,\n",
       " 'befor': 1562,\n",
       " 'activities': 981,\n",
       " 'youll': 9413,\n",
       " 'msgs': 5620,\n",
       " 'chat': 2105,\n",
       " 'svc': 8059,\n",
       " 'hardcore': 4007,\n",
       " 'services': 7327,\n",
       " '69988': 734,\n",
       " 'age': 1047,\n",
       " 'yr': 9434,\n",
       " 'lazy': 4929,\n",
       " 'type': 8620,\n",
       " 'lect': 4949,\n",
       " 'pouch': 6507,\n",
       " 'sir': 7503,\n",
       " 'mail': 5252,\n",
       " 'swt': 8088,\n",
       " 'nver': 5936,\n",
       " 'tired': 8382,\n",
       " 'little': 5053,\n",
       " 'lovable': 5139,\n",
       " 'persons': 6303,\n",
       " 'cozsomtimes': 2466,\n",
       " 'occupy': 5963,\n",
       " 'biggest': 1619,\n",
       " 'hearts': 4057,\n",
       " 'gud': 3923,\n",
       " 'ni8': 5789,\n",
       " 'open': 6055,\n",
       " 'ya': 9343,\n",
       " 'dot': 2922,\n",
       " 'whats': 9067,\n",
       " 'staff': 7807,\n",
       " 'taking': 8124,\n",
       " 'replied': 6949,\n",
       " 'randy': 6781,\n",
       " 'sexy': 7343,\n",
       " 'female': 3377,\n",
       " 'local': 5072,\n",
       " 'luv': 5195,\n",
       " 'netcollex': 5763,\n",
       " 'ltd': 5169,\n",
       " '08700621170150p': 74,\n",
       " 'ummmawill': 8650,\n",
       " 'inour': 4453,\n",
       " 'begin': 1568,\n",
       " 'qatar': 6720,\n",
       " 'pray': 6540,\n",
       " 'hard': 4006,\n",
       " 'ki': 4763,\n",
       " 'deleted': 2701,\n",
       " 'sindu': 7493,\n",
       " 'birla': 1634,\n",
       " 'soft': 7629,\n",
       " 'wine': 9122,\n",
       " 'flowing': 3482,\n",
       " 'nevering': 5773,\n",
       " 'thk': 8316,\n",
       " 'cine': 2199,\n",
       " 'plaza': 6399,\n",
       " 'typical': 8623,\n",
       " 'everywhere': 3217,\n",
       " 'dirt': 2823,\n",
       " 'floor': 3476,\n",
       " 'windows': 9119,\n",
       " 'shirt': 7399,\n",
       " 'sometimes': 7653,\n",
       " 'mouth': 5599,\n",
       " 'dream': 2949,\n",
       " 'world': 9206,\n",
       " 'without': 9148,\n",
       " 'chores': 2186,\n",
       " 'joy': 4675,\n",
       " 'lots': 5127,\n",
       " 'tv': 8594,\n",
       " 'exist': 3251,\n",
       " 'hail': 3965,\n",
       " 'mist': 5499,\n",
       " 'become': 1544,\n",
       " 'aaooooright': 916,\n",
       " 'leaving': 4948,\n",
       " 'house': 4238,\n",
       " 'interview': 4483,\n",
       " 'boy': 1762,\n",
       " 'meare': 5360,\n",
       " 'missing': 5492,\n",
       " 'annoncement': 1185,\n",
       " 'years': 9362,\n",
       " '07046744435': 22,\n",
       " 'arrange': 1296,\n",
       " '0871277810810': 121,\n",
       " 'keep': 4740,\n",
       " 'safe': 7143,\n",
       " 'envy': 3155,\n",
       " 'everyone': 3211,\n",
       " 'sees': 7281,\n",
       " 'parentsi': 6202,\n",
       " 'hand': 3980,\n",
       " 'excited': 3239,\n",
       " 'spend': 7738,\n",
       " 'bootydelious': 1722,\n",
       " '32f': 548,\n",
       " 'inviting': 4498,\n",
       " 'friend': 3601,\n",
       " 'yes434': 9374,\n",
       " 'no434': 5830,\n",
       " 'wwwsmsacubootydelious': 9295,\n",
       " 'frnd': 3612,\n",
       " '62468': 712,\n",
       " 'bangbabes': 1469,\n",
       " 'order': 6086,\n",
       " 'content': 2388,\n",
       " 'goto': 3846,\n",
       " 'bangb': 1468,\n",
       " 'internetservice': 4482,\n",
       " 'menu': 5405,\n",
       " 'cultures': 2536,\n",
       " 'module': 5542,\n",
       " '09061701939': 220,\n",
       " 's89': 7133,\n",
       " 'avoid': 1400,\n",
       " 'missunderstding': 5497,\n",
       " 'wit': 9144,\n",
       " 'beloved': 1584,\n",
       " 'ones': 6034,\n",
       " 'escape': 3174,\n",
       " 'fancy': 3328,\n",
       " 'bridge': 1799,\n",
       " 'needs': 5748,\n",
       " 'lager': 4872,\n",
       " 'completely': 2330,\n",
       " 'formclark': 3538,\n",
       " 'also': 1135,\n",
       " 'utter': 8771,\n",
       " 'waste': 8964,\n",
       " 'axis': 1414,\n",
       " 'bank': 1471,\n",
       " 'hmmm': 4157,\n",
       " 'hop': 4207,\n",
       " 'muz': 5673,\n",
       " 'discuss': 2839,\n",
       " 'liao': 4982,\n",
       " 'coming': 2306,\n",
       " 'bloody': 1680,\n",
       " 'hell': 4072,\n",
       " 'believe': 1575,\n",
       " 'surname': 8049,\n",
       " 'mr': 5610,\n",
       " 'clue': 2248,\n",
       " ...}"
      ]
     },
     "execution_count": 57,
     "metadata": {},
     "output_type": "execute_result"
    }
   ],
   "source": [
    "bag_of_words_transformed.vocabulary_"
   ]
  },
  {
   "cell_type": "code",
   "execution_count": 58,
   "metadata": {},
   "outputs": [],
   "source": [
    "bow = bag_of_words_transformed.transform(df['Body'])"
   ]
  },
  {
   "cell_type": "code",
   "execution_count": 59,
   "metadata": {},
   "outputs": [
    {
     "data": {
      "text/plain": [
       "<5571x9528 sparse matrix of type '<class 'numpy.int64'>'\n",
       "\twith 50085 stored elements in Compressed Sparse Row format>"
      ]
     },
     "execution_count": 59,
     "metadata": {},
     "output_type": "execute_result"
    }
   ],
   "source": [
    "bow"
   ]
  },
  {
   "cell_type": "markdown",
   "metadata": {},
   "source": [
    "# TFIDF - to get the relative weight for each token created using CountVectorizer \n",
    "### Term Frequency- no of times a word repeated in the obs \n",
    "### Inverse document freq- gives more importance to the rare words and penalises the common word "
   ]
  },
  {
   "cell_type": "code",
   "execution_count": 60,
   "metadata": {},
   "outputs": [],
   "source": [
    "# Output of COuntVectorizer is passed to TFIDF function\n",
    "\n",
    "from sklearn.feature_extraction.text import TfidfTransformer\n",
    "tfidf = TfidfTransformer().fit_transform(bow)"
   ]
  },
  {
   "cell_type": "code",
   "execution_count": 61,
   "metadata": {},
   "outputs": [],
   "source": [
    "# Prediction of the Label using Tfidf using Multinomial Naive Bayes (bcoz of huge data dimension)\n",
    "#nb.fit(output of tfidf , y = output label)\n",
    "from sklearn.naive_bayes import MultinomialNB\n",
    "nb_model = MultinomialNB().fit(tfidf,y=df['Label'])"
   ]
  },
  {
   "cell_type": "code",
   "execution_count": 62,
   "metadata": {},
   "outputs": [
    {
     "data": {
      "text/plain": [
       "array(['ham', 'spam', 'ham', ..., 'ham', 'ham', 'ham'], dtype='<U4')"
      ]
     },
     "execution_count": 62,
     "metadata": {},
     "output_type": "execute_result"
    }
   ],
   "source": [
    "# Divide data into train and test then PREDICTION is done\n",
    "y_pred=nb_model.predict(tfidf)\n",
    "y_pred"
   ]
  },
  {
   "cell_type": "code",
   "execution_count": 63,
   "metadata": {},
   "outputs": [],
   "source": [
    "# Confusion Matrix\n",
    "from sklearn.metrics import classification_report"
   ]
  },
  {
   "cell_type": "code",
   "execution_count": 64,
   "metadata": {},
   "outputs": [
    {
     "name": "stdout",
     "output_type": "stream",
     "text": [
      "              precision    recall  f1-score   support\n",
      "\n",
      "         ham       0.97      1.00      0.99      4824\n",
      "        spam       1.00      0.83      0.91       747\n",
      "\n",
      "    accuracy                           0.98      5571\n",
      "   macro avg       0.99      0.92      0.95      5571\n",
      "weighted avg       0.98      0.98      0.98      5571\n",
      "\n"
     ]
    }
   ],
   "source": [
    "print(classification_report(df['Label'],y_pred))"
   ]
  },
  {
   "cell_type": "markdown",
   "metadata": {},
   "source": [
    "# Naive Bayes"
   ]
  },
  {
   "cell_type": "code",
   "execution_count": 65,
   "metadata": {},
   "outputs": [],
   "source": [
    "#Pipeline - hierarchy of the processes which we will follow from left to right\n",
    "from sklearn.pipeline import Pipeline\n",
    "from sklearn.ensemble import RandomForestClassifier"
   ]
  },
  {
   "cell_type": "code",
   "execution_count": 66,
   "metadata": {},
   "outputs": [],
   "source": [
    "pipeline = Pipeline([('bag_of_words',CountVectorizer(analyzer=clean_words)),\n",
    "                     ( 'weight tfidf',TfidfTransformer()),\n",
    "                     ('classification',MultinomialNB())])"
   ]
  },
  {
   "cell_type": "code",
   "execution_count": 67,
   "metadata": {},
   "outputs": [],
   "source": [
    "from sklearn.model_selection import train_test_split\n",
    "xtrain,xtest,ytrain,ytest = train_test_split(df['Body'],df['Label'],test_size=0.25)"
   ]
  },
  {
   "cell_type": "code",
   "execution_count": 68,
   "metadata": {},
   "outputs": [
    {
     "data": {
      "text/plain": [
       "Pipeline(steps=[('bag_of_words',\n",
       "                 CountVectorizer(analyzer=<function clean_words at 0x00000197A1C21AF0>)),\n",
       "                ('weight tfidf', TfidfTransformer()),\n",
       "                ('classification', MultinomialNB())])"
      ]
     },
     "execution_count": 68,
     "metadata": {},
     "output_type": "execute_result"
    }
   ],
   "source": [
    "# Fiting on training data\n",
    "pipeline.fit(xtrain,ytrain)"
   ]
  },
  {
   "cell_type": "code",
   "execution_count": 69,
   "metadata": {},
   "outputs": [],
   "source": [
    "#Prediction\n",
    "ypred = pipeline.predict(xtest)"
   ]
  },
  {
   "cell_type": "code",
   "execution_count": 70,
   "metadata": {},
   "outputs": [
    {
     "name": "stdout",
     "output_type": "stream",
     "text": [
      "              precision    recall  f1-score   support\n",
      "\n",
      "         ham       0.96      1.00      0.98      1200\n",
      "        spam       1.00      0.71      0.83       193\n",
      "\n",
      "    accuracy                           0.96      1393\n",
      "   macro avg       0.98      0.85      0.90      1393\n",
      "weighted avg       0.96      0.96      0.96      1393\n",
      "\n"
     ]
    }
   ],
   "source": [
    "print(classification_report(ytest,ypred))"
   ]
  },
  {
   "cell_type": "markdown",
   "metadata": {},
   "source": [
    "# Random Forest \n",
    "(Just by changing the hyperparameter for pipeline)"
   ]
  },
  {
   "cell_type": "code",
   "execution_count": 71,
   "metadata": {},
   "outputs": [],
   "source": [
    "pipeline = Pipeline([('bag_of_words',CountVectorizer(analyzer=clean_words)),\n",
    "                     ( 'weight tfidf',TfidfTransformer()),\n",
    "                     ('classification',RandomForestClassifier())])"
   ]
  },
  {
   "cell_type": "code",
   "execution_count": 72,
   "metadata": {},
   "outputs": [
    {
     "data": {
      "text/plain": [
       "Pipeline(steps=[('bag_of_words',\n",
       "                 CountVectorizer(analyzer=<function clean_words at 0x00000197A1C21AF0>)),\n",
       "                ('weight tfidf', TfidfTransformer()),\n",
       "                ('classification', RandomForestClassifier())])"
      ]
     },
     "execution_count": 72,
     "metadata": {},
     "output_type": "execute_result"
    }
   ],
   "source": [
    "pipeline.fit(xtrain,ytrain)"
   ]
  },
  {
   "cell_type": "code",
   "execution_count": 73,
   "metadata": {},
   "outputs": [
    {
     "name": "stdout",
     "output_type": "stream",
     "text": [
      "              precision    recall  f1-score   support\n",
      "\n",
      "         ham       0.96      1.00      0.98      1200\n",
      "        spam       1.00      0.77      0.87       193\n",
      "\n",
      "    accuracy                           0.97      1393\n",
      "   macro avg       0.98      0.88      0.92      1393\n",
      "weighted avg       0.97      0.97      0.97      1393\n",
      "\n"
     ]
    }
   ],
   "source": [
    "ypred = pipeline.predict(xtest)\n",
    "print(classification_report(ytest,ypred))"
   ]
  },
  {
   "cell_type": "code",
   "execution_count": null,
   "metadata": {},
   "outputs": [],
   "source": []
  }
 ],
 "metadata": {
  "interpreter": {
   "hash": "00eb15f380ac47aa194f9becbc1cbcf58a552beacff4d32d7ede72a57364ece4"
  },
  "kernelspec": {
   "display_name": "Python 3.8.8 64-bit ('base': conda)",
   "name": "python3"
  },
  "language_info": {
   "codemirror_mode": {
    "name": "ipython",
    "version": 3
   },
   "file_extension": ".py",
   "mimetype": "text/x-python",
   "name": "python",
   "nbconvert_exporter": "python",
   "pygments_lexer": "ipython3",
   "version": "3.8.8"
  },
  "orig_nbformat": 4
 },
 "nbformat": 4,
 "nbformat_minor": 2
}
