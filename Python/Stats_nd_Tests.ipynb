{
 "cells": [
  {
   "cell_type": "markdown",
   "metadata": {},
   "source": [
    "# Probability Distributions"
   ]
  },
  {
   "cell_type": "markdown",
   "metadata": {},
   "source": [
    "## Uniform Distribution"
   ]
  },
  {
   "cell_type": "code",
   "execution_count": 1,
   "metadata": {},
   "outputs": [],
   "source": [
    "import scipy.stats as stats"
   ]
  },
  {
   "cell_type": "code",
   "execution_count": 2,
   "metadata": {},
   "outputs": [],
   "source": [
    "#To generate random data from the distibution\n",
    "# Syntax - stats.(distribution_type).(function) "
   ]
  },
  {
   "cell_type": "code",
   "execution_count": 3,
   "metadata": {},
   "outputs": [
    {
     "data": {
      "text/plain": [
       "numpy.ndarray"
      ]
     },
     "execution_count": 3,
     "metadata": {},
     "output_type": "execute_result"
    }
   ],
   "source": [
    "uni_data = stats.uniform.rvs(size=1000000, loc=50, scale= 450)\n",
    "type(uni_data)"
   ]
  },
  {
   "cell_type": "code",
   "execution_count": 4,
   "metadata": {},
   "outputs": [
    {
     "data": {
      "text/plain": [
       "<AxesSubplot:ylabel='Density'>"
      ]
     },
     "execution_count": 4,
     "metadata": {},
     "output_type": "execute_result"
    },
    {
     "data": {
      "image/png": "[encoded data removed]",
      "text/plain": [
       "<Figure size 432x288 with 1 Axes>"
      ]
     },
     "metadata": {
      "needs_background": "light"
     },
     "output_type": "display_data"
    }
   ],
   "source": [
    "import pandas as pd\n",
    "pd.DataFrame(uni_data).plot(kind=\"density\")\n",
    "#the greater the size more better the uniformity will be seen "
   ]
  },
  {
   "cell_type": "markdown",
   "metadata": {},
   "source": [
    "### CUMULATIVE Distribution Funtion - used to find the prob that the random no. falls below a particulR value\n",
    "Gives the probab that the random value falls below a paricular value x"
   ]
  },
  {
   "cell_type": "code",
   "execution_count": 5,
   "metadata": {},
   "outputs": [
    {
     "data": {
      "text/plain": [
       "0.1111111111111111"
      ]
     },
     "execution_count": 5,
     "metadata": {},
     "output_type": "execute_result"
    }
   ],
   "source": [
    "#CDF EXAMPLE\n",
    "stats.uniform.cdf(x=100,loc=50,scale=450)"
   ]
  },
  {
   "cell_type": "code",
   "execution_count": 6,
   "metadata": {},
   "outputs": [
    {
     "data": {
      "text/plain": [
       "0.25"
      ]
     },
     "execution_count": 6,
     "metadata": {},
     "output_type": "execute_result"
    }
   ],
   "source": [
    "#CDF Ques\n",
    "cdf_280 = stats.uniform.cdf(x=280,loc=260,scale=80)\n",
    "cdf_280"
   ]
  },
  {
   "cell_type": "code",
   "execution_count": 7,
   "metadata": {},
   "outputs": [
    {
     "data": {
      "text/plain": [
       "0.75"
      ]
     },
     "execution_count": 7,
     "metadata": {},
     "output_type": "execute_result"
    }
   ],
   "source": [
    "cdf_320 = stats.uniform.cdf(x=320,loc=260,scale=80)\n",
    "cdf_320"
   ]
  },
  {
   "cell_type": "code",
   "execution_count": 8,
   "metadata": {},
   "outputs": [
    {
     "data": {
      "text/plain": [
       "0.5"
      ]
     },
     "execution_count": 8,
     "metadata": {},
     "output_type": "execute_result"
    }
   ],
   "source": [
    "Prob = (cdf_320 - cdf_280)\n",
    "Prob"
   ]
  },
  {
   "cell_type": "markdown",
   "metadata": {},
   "source": [
    "### PPF (Point percentile Function)\n",
    "If prob is given and the x is unknown"
   ]
  },
  {
   "cell_type": "code",
   "execution_count": 9,
   "metadata": {},
   "outputs": [
    {
     "data": {
      "text/plain": [
       "300.0"
      ]
     },
     "execution_count": 9,
     "metadata": {},
     "output_type": "execute_result"
    }
   ],
   "source": [
    "# Parameters : prob, loc= start pt. , scale = end-start\n",
    "stats.uniform.ppf(0.5,loc=260,scale=80)\n"
   ]
  },
  {
   "cell_type": "markdown",
   "metadata": {},
   "source": [
    "### PDF (Prob density function) \n",
    "Prob per unit area - "
   ]
  },
  {
   "cell_type": "code",
   "execution_count": 10,
   "metadata": {},
   "outputs": [
    {
     "data": {
      "text/plain": [
       "0.0125"
      ]
     },
     "execution_count": 10,
     "metadata": {},
     "output_type": "execute_result"
    }
   ],
   "source": [
    "stats.uniform.pdf(x=285,loc=260,scale=80)"
   ]
  },
  {
   "cell_type": "markdown",
   "metadata": {},
   "source": [
    "# Normal Distribution\n",
    "loc - mean,\n",
    "scale - stdev "
   ]
  },
  {
   "cell_type": "code",
   "execution_count": 11,
   "metadata": {},
   "outputs": [
    {
     "data": {
      "text/plain": [
       "array([ 8.76153874,  9.8700693 , 10.89453317,  9.25425531, 10.95854152,\n",
       "       14.1893094 ,  9.7736854 ,  8.91131615,  9.42800286,  7.81482252])"
      ]
     },
     "execution_count": 11,
     "metadata": {},
     "output_type": "execute_result"
    }
   ],
   "source": [
    "#Loc = mean and scale =stdev. In this case, mean=10, stdev=2\n",
    "stats.norm.rvs(size=10,loc=10,scale=2)"
   ]
  },
  {
   "cell_type": "markdown",
   "metadata": {},
   "source": [
    "# Standard Normal Distribution\n",
    "Mean=0 , Stdev=1"
   ]
  },
  {
   "cell_type": "code",
   "execution_count": 12,
   "metadata": {},
   "outputs": [
    {
     "data": {
      "text/plain": [
       "0.15865525393145707"
      ]
     },
     "execution_count": 12,
     "metadata": {},
     "output_type": "execute_result"
    }
   ],
   "source": [
    "#Area of rejected region on the left\n",
    "lr = stats.norm.cdf(x=-1,loc=0,scale=1)\n",
    "lr"
   ]
  },
  {
   "cell_type": "code",
   "execution_count": 13,
   "metadata": {},
   "outputs": [
    {
     "data": {
      "text/plain": [
       "0.8413447460685429"
      ]
     },
     "execution_count": 13,
     "metadata": {},
     "output_type": "execute_result"
    }
   ],
   "source": [
    "#Area of region to the left of point 1\n",
    "rr = stats.norm.cdf(x=1,loc=0,scale=1)\n",
    "rr"
   ]
  },
  {
   "cell_type": "code",
   "execution_count": 14,
   "metadata": {},
   "outputs": [
    {
     "data": {
      "text/plain": [
       "0.6826894921370859"
      ]
     },
     "execution_count": 14,
     "metadata": {},
     "output_type": "execute_result"
    }
   ],
   "source": [
    "#Area of desired region (mid region of bell curver removing rejecting region)\n",
    "rr-lr"
   ]
  },
  {
   "cell_type": "code",
   "execution_count": 15,
   "metadata": {},
   "outputs": [],
   "source": [
    "#Example ques\n",
    "# Mean height is 100 cm and stdev is 10cm\n",
    "# 1. % of people having heights < 80cm\n",
    "# 2. % of people having height >120cm\n",
    "# 3. % of people having height between 80cm and 120cm\n",
    "# Sol1.\n",
    "h = stats.norm.cdf(x=80,loc=100,scale=10)\n",
    "\n"
   ]
  },
  {
   "cell_type": "code",
   "execution_count": 16,
   "metadata": {},
   "outputs": [
    {
     "data": {
      "text/plain": [
       "0.02275013194817921"
      ]
     },
     "execution_count": 16,
     "metadata": {},
     "output_type": "execute_result"
    }
   ],
   "source": [
    "# Sol2.\n",
    "g = stats.norm.cdf(x=120,loc=100,scale=10)\n",
    "1-g\n"
   ]
  },
  {
   "cell_type": "code",
   "execution_count": 17,
   "metadata": {},
   "outputs": [
    {
     "data": {
      "text/plain": [
       "0.9544997361036416"
      ]
     },
     "execution_count": 17,
     "metadata": {},
     "output_type": "execute_result"
    }
   ],
   "source": [
    "# Sol3.\n",
    "g-h\n"
   ]
  },
  {
   "cell_type": "code",
   "execution_count": 18,
   "metadata": {},
   "outputs": [
    {
     "data": {
      "text/plain": [
       "array([19, 25, 74, 38, 99])"
      ]
     },
     "execution_count": 18,
     "metadata": {},
     "output_type": "execute_result"
    }
   ],
   "source": [
    "#Setting seed to generate same set of numbers everytime : array([19, 25, 74, 38, 99])\n",
    "import numpy as np\n",
    "np.random.seed(10)\n",
    "np.random.randint(low=10,high=100,size=5)"
   ]
  },
  {
   "cell_type": "markdown",
   "metadata": {},
   "source": [
    "# Confidence Intervals"
   ]
  },
  {
   "cell_type": "code",
   "execution_count": 19,
   "metadata": {},
   "outputs": [],
   "source": [
    "np.random.seed(10)\n",
    "point_est= []\n",
    "\n",
    "sample_size = 1000"
   ]
  },
  {
   "cell_type": "markdown",
   "metadata": {},
   "source": [
    "# Hypothesis Testing"
   ]
  },
  {
   "cell_type": "markdown",
   "metadata": {},
   "source": [
    "## 1 sample t-Test\n",
    "1. when we have to compare 1 sample with pop, 1 sample t test"
   ]
  },
  {
   "cell_type": "code",
   "execution_count": 20,
   "metadata": {},
   "outputs": [],
   "source": [
    "#Random data for normal Population of weights having mean=50 and sd=30\n",
    "wt_kg = stats.norm.rvs(size=1000000,loc=50,scale=30)  #generating random values"
   ]
  },
  {
   "cell_type": "code",
   "execution_count": 21,
   "metadata": {},
   "outputs": [
    {
     "data": {
      "text/plain": [
       "49.98670258460591"
      ]
     },
     "execution_count": 21,
     "metadata": {},
     "output_type": "execute_result"
    }
   ],
   "source": [
    "wt_kg.mean()"
   ]
  },
  {
   "cell_type": "code",
   "execution_count": 24,
   "metadata": {},
   "outputs": [
    {
     "data": {
      "text/plain": [
       "numpy.ndarray"
      ]
     },
     "execution_count": 24,
     "metadata": {},
     "output_type": "execute_result"
    }
   ],
   "source": [
    "#New Sample of the data haing mean = 30 and stdev = 15\n",
    "wt_samp = stats.norm.rvs(size=30,loc=30,scale=15)\n",
    "type(wt_samp)"
   ]
  },
  {
   "cell_type": "code",
   "execution_count": 26,
   "metadata": {},
   "outputs": [
    {
     "data": {
      "text/plain": [
       "Ttest_1sampResult(statistic=-6.370512844408641, pvalue=5.794148321868617e-07)"
      ]
     },
     "execution_count": 26,
     "metadata": {},
     "output_type": "execute_result"
    }
   ],
   "source": [
    "#Checking whether this sample belongs to the population data\n",
    "pd.set_option('display.float_format',lambda x:'%3f'%x)\n",
    "stats.ttest_1samp(wt_samp,wt_kg.mean())"
   ]
  },
  {
   "cell_type": "markdown",
   "metadata": {},
   "source": [
    "### 2 sample t-test"
   ]
  },
  {
   "cell_type": "code",
   "execution_count": 37,
   "metadata": {},
   "outputs": [
    {
     "data": {
      "text/plain": [
       "array([17.2129905 , 36.50340314, 44.32066525, 15.4406937 , 18.87379149,\n",
       "       20.04891578, 18.45779608, -0.65368695, -0.55978486, 31.2875953 ,\n",
       "       30.4409901 , 18.14018124,  9.66536005, 22.92421798, 39.91084643,\n",
       "        7.45279227, 10.51201759, 17.96501893,  9.92421882, 17.8946216 ,\n",
       "       40.36614507,  1.99667204, 25.94548294, 22.73795949, 26.9108421 ,\n",
       "       28.76666417, 21.94112775, 18.96503052, 29.34861772, 14.64389841,\n",
       "        3.03260123, 10.37702212, 13.94179124, 37.18017243, 25.11158652,\n",
       "       27.29155133, 15.98173413, 25.61684938, 41.11481353, 25.55073748])"
      ]
     },
     "execution_count": 37,
     "metadata": {},
     "output_type": "execute_result"
    }
   ],
   "source": [
    "#Sample 1 having mean=20 and sd=10\n",
    "sample1 =  stats.norm.rvs(size=40 ,loc=20 ,scale=10)\n",
    "sample1"
   ]
  },
  {
   "cell_type": "code",
   "execution_count": 35,
   "metadata": {},
   "outputs": [],
   "source": [
    "#Another sample haing mean=30 and sd=15\n",
    "sample2 = stats.norm.rvs(size=40,loc=30,scale=15) "
   ]
  },
  {
   "cell_type": "code",
   "execution_count": 39,
   "metadata": {},
   "outputs": [
    {
     "data": {
      "text/plain": [
       "Ttest_indResult(statistic=-2.742218754985243, pvalue=0.007565695634261881)"
      ]
     },
     "execution_count": 39,
     "metadata": {},
     "output_type": "execute_result"
    }
   ],
   "source": [
    "#Assumption is made that variances are equal in 2 population\n",
    "stats.ttest_ind(sample1,sample2,equal_var=True)  "
   ]
  },
  {
   "cell_type": "markdown",
   "metadata": {},
   "source": [
    "reject H0:mean of sample1= mean of sample2 as p<alpha  "
   ]
  },
  {
   "cell_type": "markdown",
   "metadata": {},
   "source": [
    "# Paired t-test\n",
    "Dependent samples for eg same people records before and after taking meds"
   ]
  },
  {
   "cell_type": "code",
   "execution_count": 40,
   "metadata": {},
   "outputs": [],
   "source": [
    "\n",
    "#1st sample of bloop pressure generating randomly having average bp is 120 and sd is 20\n",
    "bp_before = stats.norm.rvs(size=100,loc=120,scale=20)"
   ]
  },
  {
   "cell_type": "code",
   "execution_count": 42,
   "metadata": {},
   "outputs": [],
   "source": [
    "#As dependent samples as needed so adding some noise\n",
    "bp_after = bp_before + stats.norm.rvs(size=100,loc=5,scale=3) "
   ]
  },
  {
   "cell_type": "code",
   "execution_count": 43,
   "metadata": {},
   "outputs": [
    {
     "data": {
      "text/plain": [
       "Ttest_relResult(statistic=-17.297840736713546, pvalue=1.1009958088718882e-31)"
      ]
     },
     "execution_count": 43,
     "metadata": {},
     "output_type": "execute_result"
    }
   ],
   "source": [
    "#Hypothesis : H0 : mean of bp_before-bp_after = 0 \n",
    "stats.ttest_rel(bp_before,bp_after)"
   ]
  },
  {
   "cell_type": "markdown",
   "metadata": {},
   "source": [
    "# ANOVA"
   ]
  },
  {
   "cell_type": "code",
   "execution_count": 44,
   "metadata": {},
   "outputs": [],
   "source": [
    "import pandas as od"
   ]
  },
  {
   "cell_type": "code",
   "execution_count": 45,
   "metadata": {},
   "outputs": [],
   "source": [
    "plants = pd.read_csv(\"Plant_growth.csv\")"
   ]
  },
  {
   "cell_type": "code",
   "execution_count": 46,
   "metadata": {},
   "outputs": [
    {
     "data": {
      "text/html": [
       "<div>\n",
       "<style scoped>\n",
       "    .dataframe tbody tr th:only-of-type {\n",
       "        vertical-align: middle;\n",
       "    }\n",
       "\n",
       "    .dataframe tbody tr th {\n",
       "        vertical-align: top;\n",
       "    }\n",
       "\n",
       "    .dataframe thead th {\n",
       "        text-align: right;\n",
       "    }\n",
       "</style>\n",
       "<table border=\"1\" class=\"dataframe\">\n",
       "  <thead>\n",
       "    <tr style=\"text-align: right;\">\n",
       "      <th></th>\n",
       "      <th>weight</th>\n",
       "      <th>treatment_type</th>\n",
       "    </tr>\n",
       "  </thead>\n",
       "  <tbody>\n",
       "    <tr>\n",
       "      <th>0</th>\n",
       "      <td>4.170000</td>\n",
       "      <td>ctrl</td>\n",
       "    </tr>\n",
       "    <tr>\n",
       "      <th>1</th>\n",
       "      <td>5.580000</td>\n",
       "      <td>ctrl</td>\n",
       "    </tr>\n",
       "    <tr>\n",
       "      <th>2</th>\n",
       "      <td>5.180000</td>\n",
       "      <td>ctrl</td>\n",
       "    </tr>\n",
       "    <tr>\n",
       "      <th>3</th>\n",
       "      <td>6.110000</td>\n",
       "      <td>ctrl</td>\n",
       "    </tr>\n",
       "    <tr>\n",
       "      <th>4</th>\n",
       "      <td>4.500000</td>\n",
       "      <td>ctrl</td>\n",
       "    </tr>\n",
       "  </tbody>\n",
       "</table>\n",
       "</div>"
      ],
      "text/plain": [
       "    weight treatment_type\n",
       "0 4.170000           ctrl\n",
       "1 5.580000           ctrl\n",
       "2 5.180000           ctrl\n",
       "3 6.110000           ctrl\n",
       "4 4.500000           ctrl"
      ]
     },
     "execution_count": 46,
     "metadata": {},
     "output_type": "execute_result"
    }
   ],
   "source": [
    "plants.head()"
   ]
  },
  {
   "cell_type": "code",
   "execution_count": 47,
   "metadata": {},
   "outputs": [
    {
     "name": "stdout",
     "output_type": "stream",
     "text": [
      "<class 'pandas.core.frame.DataFrame'>\n",
      "RangeIndex: 30 entries, 0 to 29\n",
      "Data columns (total 2 columns):\n",
      " #   Column          Non-Null Count  Dtype  \n",
      "---  ------          --------------  -----  \n",
      " 0   weight          30 non-null     float64\n",
      " 1   treatment_type  30 non-null     object \n",
      "dtypes: float64(1), object(1)\n",
      "memory usage: 608.0+ bytes\n"
     ]
    }
   ],
   "source": [
    "plants.info()"
   ]
  },
  {
   "cell_type": "markdown",
   "metadata": {},
   "source": [
    "Check if there is a significance difference in weight of plants after adding fertilizer.\n",
    "H0 : mu_trt1 group = mu_trt2 group = mu_ctrl group.\n",
    "Ha : any 1 is not equal."
   ]
  },
  {
   "cell_type": "code",
   "execution_count": 50,
   "metadata": {},
   "outputs": [
    {
     "data": {
      "text/plain": [
       "trt2    10\n",
       "ctrl    10\n",
       "trt1    10\n",
       "Name: treatment_type, dtype: int64"
      ]
     },
     "execution_count": 50,
     "metadata": {},
     "output_type": "execute_result"
    }
   ],
   "source": [
    "#Dividing group wise \n",
    "plants['treatment_type'].value_counts()"
   ]
  },
  {
   "cell_type": "code",
   "execution_count": 57,
   "metadata": {},
   "outputs": [
    {
     "data": {
      "text/plain": [
       "0   4.170000\n",
       "1   5.580000\n",
       "2   5.180000\n",
       "3   6.110000\n",
       "4   4.500000\n",
       "5   4.610000\n",
       "6   5.170000\n",
       "7   4.530000\n",
       "8   5.330000\n",
       "9   5.140000\n",
       "Name: weight, dtype: float64"
      ]
     },
     "execution_count": 57,
     "metadata": {},
     "output_type": "execute_result"
    }
   ],
   "source": [
    "ctrl = plants[plants['treatment_type']==\"ctrl\"]['weight']\n",
    "ctrl"
   ]
  },
  {
   "cell_type": "code",
   "execution_count": 58,
   "metadata": {},
   "outputs": [
    {
     "data": {
      "text/plain": [
       "10   4.810000\n",
       "11   4.170000\n",
       "12   4.410000\n",
       "13   3.590000\n",
       "14   5.870000\n",
       "15   3.830000\n",
       "16   6.030000\n",
       "17   4.890000\n",
       "18   4.320000\n",
       "19   4.690000\n",
       "Name: weight, dtype: float64"
      ]
     },
     "execution_count": 58,
     "metadata": {},
     "output_type": "execute_result"
    }
   ],
   "source": [
    "trt1 = plants[plants['treatment_type']==\"trt1\"]['weight']\n",
    "trt1"
   ]
  },
  {
   "cell_type": "code",
   "execution_count": 59,
   "metadata": {},
   "outputs": [
    {
     "data": {
      "text/plain": [
       "20   6.310000\n",
       "21   5.120000\n",
       "22   5.540000\n",
       "23   5.500000\n",
       "24   5.370000\n",
       "25   5.290000\n",
       "26   4.920000\n",
       "27   6.150000\n",
       "28   5.800000\n",
       "29   5.260000\n",
       "Name: weight, dtype: float64"
      ]
     },
     "execution_count": 59,
     "metadata": {},
     "output_type": "execute_result"
    }
   ],
   "source": [
    "trt2 = plants[plants['treatment_type']==\"trt2\"]['weight']\n",
    "trt2"
   ]
  },
  {
   "cell_type": "code",
   "execution_count": 60,
   "metadata": {},
   "outputs": [
    {
     "data": {
      "text/plain": [
       "F_onewayResult(statistic=4.846087862380136, pvalue=0.0159099583256229)"
      ]
     },
     "execution_count": 60,
     "metadata": {},
     "output_type": "execute_result"
    }
   ],
   "source": [
    "stats.f_oneway(ctrl,trt1,trt2)"
   ]
  },
  {
   "cell_type": "markdown",
   "metadata": {},
   "source": [
    "Since p-value < 0.05, so we reject the H0"
   ]
  },
  {
   "cell_type": "markdown",
   "metadata": {},
   "source": [
    "# Chi square test for INDEPENDENCE\n",
    "H0 : There is no relationship b/w 2 vars , and\n",
    "Ha : There is a relationship b/w 2 vars"
   ]
  },
  {
   "cell_type": "code",
   "execution_count": 61,
   "metadata": {},
   "outputs": [],
   "source": [
    "ob_die = [52,76,45,48,43,36]\n",
    "exp_die= [50,50,50,50,50,50]"
   ]
  },
  {
   "cell_type": "code",
   "execution_count": 62,
   "metadata": {},
   "outputs": [
    {
     "data": {
      "text/plain": [
       "Power_divergenceResult(statistic=19.08, pvalue=0.0018572859497089486)"
      ]
     },
     "execution_count": 62,
     "metadata": {},
     "output_type": "execute_result"
    }
   ],
   "source": [
    "stats.chisquare(ob_die,exp_die)  #Reject the H0 as p<alpha"
   ]
  },
  {
   "cell_type": "markdown",
   "metadata": {},
   "source": [
    "# Covariance\n",
    "how 2 variables vary together"
   ]
  },
  {
   "cell_type": "code",
   "execution_count": 63,
   "metadata": {},
   "outputs": [
    {
     "data": {
      "text/html": [
       "<div>\n",
       "<style scoped>\n",
       "    .dataframe tbody tr th:only-of-type {\n",
       "        vertical-align: middle;\n",
       "    }\n",
       "\n",
       "    .dataframe tbody tr th {\n",
       "        vertical-align: top;\n",
       "    }\n",
       "\n",
       "    .dataframe thead th {\n",
       "        text-align: right;\n",
       "    }\n",
       "</style>\n",
       "<table border=\"1\" class=\"dataframe\">\n",
       "  <thead>\n",
       "    <tr style=\"text-align: right;\">\n",
       "      <th></th>\n",
       "      <th>name_of_car</th>\n",
       "      <th>Model</th>\n",
       "      <th>Type</th>\n",
       "      <th>Origin</th>\n",
       "      <th>DriveTrain</th>\n",
       "      <th>MSRP</th>\n",
       "      <th>Invoice</th>\n",
       "      <th>EngineSize</th>\n",
       "      <th>Cylinders</th>\n",
       "      <th>Horsepower</th>\n",
       "      <th>MPG_City</th>\n",
       "      <th>MPG_Highway</th>\n",
       "      <th>Weight</th>\n",
       "      <th>Wheelbase</th>\n",
       "      <th>Length</th>\n",
       "    </tr>\n",
       "  </thead>\n",
       "  <tbody>\n",
       "    <tr>\n",
       "      <th>0</th>\n",
       "      <td>Acura</td>\n",
       "      <td>MDX</td>\n",
       "      <td>SUV</td>\n",
       "      <td>Asia</td>\n",
       "      <td>All</td>\n",
       "      <td>$36,945</td>\n",
       "      <td>$33,337</td>\n",
       "      <td>3.500000</td>\n",
       "      <td>6.000000</td>\n",
       "      <td>265</td>\n",
       "      <td>17</td>\n",
       "      <td>23</td>\n",
       "      <td>4451</td>\n",
       "      <td>106</td>\n",
       "      <td>189</td>\n",
       "    </tr>\n",
       "    <tr>\n",
       "      <th>1</th>\n",
       "      <td>Acura</td>\n",
       "      <td>RSX Type S 2dr</td>\n",
       "      <td>Sedan</td>\n",
       "      <td>Asia</td>\n",
       "      <td>Front</td>\n",
       "      <td>$23,820</td>\n",
       "      <td>$21,761</td>\n",
       "      <td>2.000000</td>\n",
       "      <td>4.000000</td>\n",
       "      <td>200</td>\n",
       "      <td>24</td>\n",
       "      <td>31</td>\n",
       "      <td>2778</td>\n",
       "      <td>101</td>\n",
       "      <td>172</td>\n",
       "    </tr>\n",
       "    <tr>\n",
       "      <th>2</th>\n",
       "      <td>Acura</td>\n",
       "      <td>TSX 4dr</td>\n",
       "      <td>Sedan</td>\n",
       "      <td>Asia</td>\n",
       "      <td>Front</td>\n",
       "      <td>$26,990</td>\n",
       "      <td>$24,647</td>\n",
       "      <td>2.400000</td>\n",
       "      <td>4.000000</td>\n",
       "      <td>200</td>\n",
       "      <td>22</td>\n",
       "      <td>29</td>\n",
       "      <td>3230</td>\n",
       "      <td>105</td>\n",
       "      <td>183</td>\n",
       "    </tr>\n",
       "    <tr>\n",
       "      <th>3</th>\n",
       "      <td>Acura</td>\n",
       "      <td>TL 4dr</td>\n",
       "      <td>Sedan</td>\n",
       "      <td>Asia</td>\n",
       "      <td>Front</td>\n",
       "      <td>$33,195</td>\n",
       "      <td>$30,299</td>\n",
       "      <td>3.200000</td>\n",
       "      <td>6.000000</td>\n",
       "      <td>270</td>\n",
       "      <td>20</td>\n",
       "      <td>28</td>\n",
       "      <td>3575</td>\n",
       "      <td>108</td>\n",
       "      <td>186</td>\n",
       "    </tr>\n",
       "    <tr>\n",
       "      <th>4</th>\n",
       "      <td>Acura</td>\n",
       "      <td>3.5 RL 4dr</td>\n",
       "      <td>Sedan</td>\n",
       "      <td>Asia</td>\n",
       "      <td>Front</td>\n",
       "      <td>$43,755</td>\n",
       "      <td>$39,014</td>\n",
       "      <td>3.500000</td>\n",
       "      <td>6.000000</td>\n",
       "      <td>225</td>\n",
       "      <td>18</td>\n",
       "      <td>24</td>\n",
       "      <td>3880</td>\n",
       "      <td>115</td>\n",
       "      <td>197</td>\n",
       "    </tr>\n",
       "  </tbody>\n",
       "</table>\n",
       "</div>"
      ],
      "text/plain": [
       "  name_of_car           Model   Type Origin DriveTrain     MSRP  Invoice  \\\n",
       "0       Acura             MDX    SUV   Asia        All  $36,945  $33,337   \n",
       "1       Acura  RSX Type S 2dr  Sedan   Asia      Front  $23,820  $21,761   \n",
       "2       Acura         TSX 4dr  Sedan   Asia      Front  $26,990  $24,647   \n",
       "3       Acura          TL 4dr  Sedan   Asia      Front  $33,195  $30,299   \n",
       "4       Acura      3.5 RL 4dr  Sedan   Asia      Front  $43,755  $39,014   \n",
       "\n",
       "   EngineSize  Cylinders  Horsepower  MPG_City  MPG_Highway  Weight  \\\n",
       "0    3.500000   6.000000         265        17           23    4451   \n",
       "1    2.000000   4.000000         200        24           31    2778   \n",
       "2    2.400000   4.000000         200        22           29    3230   \n",
       "3    3.200000   6.000000         270        20           28    3575   \n",
       "4    3.500000   6.000000         225        18           24    3880   \n",
       "\n",
       "   Wheelbase  Length  \n",
       "0        106     189  \n",
       "1        101     172  \n",
       "2        105     183  \n",
       "3        108     186  \n",
       "4        115     197  "
      ]
     },
     "execution_count": 63,
     "metadata": {},
     "output_type": "execute_result"
    }
   ],
   "source": [
    "car = pd.read_csv(\"CARS.csv\")\n",
    "car.head()"
   ]
  },
  {
   "cell_type": "code",
   "execution_count": 65,
   "metadata": {},
   "outputs": [
    {
     "data": {
      "text/html": [
       "<div>\n",
       "<style scoped>\n",
       "    .dataframe tbody tr th:only-of-type {\n",
       "        vertical-align: middle;\n",
       "    }\n",
       "\n",
       "    .dataframe tbody tr th {\n",
       "        vertical-align: top;\n",
       "    }\n",
       "\n",
       "    .dataframe thead th {\n",
       "        text-align: right;\n",
       "    }\n",
       "</style>\n",
       "<table border=\"1\" class=\"dataframe\">\n",
       "  <thead>\n",
       "    <tr style=\"text-align: right;\">\n",
       "      <th></th>\n",
       "      <th>EngineSize</th>\n",
       "      <th>Cylinders</th>\n",
       "      <th>Horsepower</th>\n",
       "      <th>MPG_City</th>\n",
       "      <th>MPG_Highway</th>\n",
       "      <th>Weight</th>\n",
       "      <th>Wheelbase</th>\n",
       "      <th>Length</th>\n",
       "    </tr>\n",
       "  </thead>\n",
       "  <tbody>\n",
       "    <tr>\n",
       "      <th>EngineSize</th>\n",
       "      <td>1.228982</td>\n",
       "      <td>1.561558</td>\n",
       "      <td>62.708992</td>\n",
       "      <td>-4.119941</td>\n",
       "      <td>-4.565384</td>\n",
       "      <td>679.742938</td>\n",
       "      <td>5.865143</td>\n",
       "      <td>10.146386</td>\n",
       "    </tr>\n",
       "    <tr>\n",
       "      <th>Cylinders</th>\n",
       "      <td>1.561558</td>\n",
       "      <td>2.428743</td>\n",
       "      <td>90.915272</td>\n",
       "      <td>-5.598177</td>\n",
       "      <td>-6.061022</td>\n",
       "      <td>878.933841</td>\n",
       "      <td>7.097586</td>\n",
       "      <td>12.264601</td>\n",
       "    </tr>\n",
       "    <tr>\n",
       "      <th>Horsepower</th>\n",
       "      <td>62.708992</td>\n",
       "      <td>90.915272</td>\n",
       "      <td>5160.415434</td>\n",
       "      <td>-254.637057</td>\n",
       "      <td>-266.919603</td>\n",
       "      <td>34392.465364</td>\n",
       "      <td>231.310436</td>\n",
       "      <td>393.542729</td>\n",
       "    </tr>\n",
       "    <tr>\n",
       "      <th>MPG_City</th>\n",
       "      <td>-4.119941</td>\n",
       "      <td>-5.598177</td>\n",
       "      <td>-254.637057</td>\n",
       "      <td>27.438924</td>\n",
       "      <td>28.299930</td>\n",
       "      <td>-2933.945632</td>\n",
       "      <td>-22.086673</td>\n",
       "      <td>-37.719944</td>\n",
       "    </tr>\n",
       "    <tr>\n",
       "      <th>MPG_Highway</th>\n",
       "      <td>-4.565384</td>\n",
       "      <td>-6.061022</td>\n",
       "      <td>-266.919603</td>\n",
       "      <td>28.299930</td>\n",
       "      <td>32.961386</td>\n",
       "      <td>-3446.716934</td>\n",
       "      <td>-25.036694</td>\n",
       "      <td>-38.420927</td>\n",
       "    </tr>\n",
       "    <tr>\n",
       "      <th>Weight</th>\n",
       "      <td>679.742938</td>\n",
       "      <td>878.933841</td>\n",
       "      <td>34392.465364</td>\n",
       "      <td>-2933.945632</td>\n",
       "      <td>-3446.716934</td>\n",
       "      <td>576055.520060</td>\n",
       "      <td>4798.913546</td>\n",
       "      <td>7519.483005</td>\n",
       "    </tr>\n",
       "    <tr>\n",
       "      <th>Wheelbase</th>\n",
       "      <td>5.865143</td>\n",
       "      <td>7.097586</td>\n",
       "      <td>231.310436</td>\n",
       "      <td>-22.086673</td>\n",
       "      <td>-25.036694</td>\n",
       "      <td>4798.913546</td>\n",
       "      <td>69.086235</td>\n",
       "      <td>106.117326</td>\n",
       "    </tr>\n",
       "    <tr>\n",
       "      <th>Length</th>\n",
       "      <td>10.146386</td>\n",
       "      <td>12.264601</td>\n",
       "      <td>393.542729</td>\n",
       "      <td>-37.719944</td>\n",
       "      <td>-38.420927</td>\n",
       "      <td>7519.483005</td>\n",
       "      <td>106.117326</td>\n",
       "      <td>206.151913</td>\n",
       "    </tr>\n",
       "  </tbody>\n",
       "</table>\n",
       "</div>"
      ],
      "text/plain": [
       "             EngineSize  Cylinders   Horsepower     MPG_City  MPG_Highway  \\\n",
       "EngineSize     1.228982   1.561558    62.708992    -4.119941    -4.565384   \n",
       "Cylinders      1.561558   2.428743    90.915272    -5.598177    -6.061022   \n",
       "Horsepower    62.708992  90.915272  5160.415434  -254.637057  -266.919603   \n",
       "MPG_City      -4.119941  -5.598177  -254.637057    27.438924    28.299930   \n",
       "MPG_Highway   -4.565384  -6.061022  -266.919603    28.299930    32.961386   \n",
       "Weight       679.742938 878.933841 34392.465364 -2933.945632 -3446.716934   \n",
       "Wheelbase      5.865143   7.097586   231.310436   -22.086673   -25.036694   \n",
       "Length        10.146386  12.264601   393.542729   -37.719944   -38.420927   \n",
       "\n",
       "                   Weight   Wheelbase      Length  \n",
       "EngineSize     679.742938    5.865143   10.146386  \n",
       "Cylinders      878.933841    7.097586   12.264601  \n",
       "Horsepower   34392.465364  231.310436  393.542729  \n",
       "MPG_City     -2933.945632  -22.086673  -37.719944  \n",
       "MPG_Highway  -3446.716934  -25.036694  -38.420927  \n",
       "Weight      576055.520060 4798.913546 7519.483005  \n",
       "Wheelbase     4798.913546   69.086235  106.117326  \n",
       "Length        7519.483005  106.117326  206.151913  "
      ]
     },
     "execution_count": 65,
     "metadata": {},
     "output_type": "execute_result"
    }
   ],
   "source": [
    "car.cov()"
   ]
  },
  {
   "cell_type": "code",
   "execution_count": 66,
   "metadata": {},
   "outputs": [
    {
     "data": {
      "text/html": [
       "<div>\n",
       "<style scoped>\n",
       "    .dataframe tbody tr th:only-of-type {\n",
       "        vertical-align: middle;\n",
       "    }\n",
       "\n",
       "    .dataframe tbody tr th {\n",
       "        vertical-align: top;\n",
       "    }\n",
       "\n",
       "    .dataframe thead th {\n",
       "        text-align: right;\n",
       "    }\n",
       "</style>\n",
       "<table border=\"1\" class=\"dataframe\">\n",
       "  <thead>\n",
       "    <tr style=\"text-align: right;\">\n",
       "      <th></th>\n",
       "      <th>EngineSize</th>\n",
       "      <th>Cylinders</th>\n",
       "      <th>Horsepower</th>\n",
       "      <th>MPG_City</th>\n",
       "      <th>MPG_Highway</th>\n",
       "      <th>Weight</th>\n",
       "      <th>Wheelbase</th>\n",
       "      <th>Length</th>\n",
       "    </tr>\n",
       "  </thead>\n",
       "  <tbody>\n",
       "    <tr>\n",
       "      <th>EngineSize</th>\n",
       "      <td>1.000000</td>\n",
       "      <td>0.908002</td>\n",
       "      <td>0.787435</td>\n",
       "      <td>-0.709471</td>\n",
       "      <td>-0.717302</td>\n",
       "      <td>0.807867</td>\n",
       "      <td>0.636517</td>\n",
       "      <td>0.637448</td>\n",
       "    </tr>\n",
       "    <tr>\n",
       "      <th>Cylinders</th>\n",
       "      <td>0.908002</td>\n",
       "      <td>1.000000</td>\n",
       "      <td>0.810341</td>\n",
       "      <td>-0.684402</td>\n",
       "      <td>-0.676100</td>\n",
       "      <td>0.742209</td>\n",
       "      <td>0.546730</td>\n",
       "      <td>0.547783</td>\n",
       "    </tr>\n",
       "    <tr>\n",
       "      <th>Horsepower</th>\n",
       "      <td>0.787435</td>\n",
       "      <td>0.810341</td>\n",
       "      <td>1.000000</td>\n",
       "      <td>-0.676699</td>\n",
       "      <td>-0.647195</td>\n",
       "      <td>0.630796</td>\n",
       "      <td>0.387398</td>\n",
       "      <td>0.381554</td>\n",
       "    </tr>\n",
       "    <tr>\n",
       "      <th>MPG_City</th>\n",
       "      <td>-0.709471</td>\n",
       "      <td>-0.684402</td>\n",
       "      <td>-0.676699</td>\n",
       "      <td>1.000000</td>\n",
       "      <td>0.941021</td>\n",
       "      <td>-0.737966</td>\n",
       "      <td>-0.507284</td>\n",
       "      <td>-0.501526</td>\n",
       "    </tr>\n",
       "    <tr>\n",
       "      <th>MPG_Highway</th>\n",
       "      <td>-0.717302</td>\n",
       "      <td>-0.676100</td>\n",
       "      <td>-0.647195</td>\n",
       "      <td>0.941021</td>\n",
       "      <td>1.000000</td>\n",
       "      <td>-0.790989</td>\n",
       "      <td>-0.524661</td>\n",
       "      <td>-0.466092</td>\n",
       "    </tr>\n",
       "    <tr>\n",
       "      <th>Weight</th>\n",
       "      <td>0.807867</td>\n",
       "      <td>0.742209</td>\n",
       "      <td>0.630796</td>\n",
       "      <td>-0.737966</td>\n",
       "      <td>-0.790989</td>\n",
       "      <td>1.000000</td>\n",
       "      <td>0.760703</td>\n",
       "      <td>0.690021</td>\n",
       "    </tr>\n",
       "    <tr>\n",
       "      <th>Wheelbase</th>\n",
       "      <td>0.636517</td>\n",
       "      <td>0.546730</td>\n",
       "      <td>0.387398</td>\n",
       "      <td>-0.507284</td>\n",
       "      <td>-0.524661</td>\n",
       "      <td>0.760703</td>\n",
       "      <td>1.000000</td>\n",
       "      <td>0.889195</td>\n",
       "    </tr>\n",
       "    <tr>\n",
       "      <th>Length</th>\n",
       "      <td>0.637448</td>\n",
       "      <td>0.547783</td>\n",
       "      <td>0.381554</td>\n",
       "      <td>-0.501526</td>\n",
       "      <td>-0.466092</td>\n",
       "      <td>0.690021</td>\n",
       "      <td>0.889195</td>\n",
       "      <td>1.000000</td>\n",
       "    </tr>\n",
       "  </tbody>\n",
       "</table>\n",
       "</div>"
      ],
      "text/plain": [
       "             EngineSize  Cylinders  Horsepower  MPG_City  MPG_Highway  \\\n",
       "EngineSize     1.000000   0.908002    0.787435 -0.709471    -0.717302   \n",
       "Cylinders      0.908002   1.000000    0.810341 -0.684402    -0.676100   \n",
       "Horsepower     0.787435   0.810341    1.000000 -0.676699    -0.647195   \n",
       "MPG_City      -0.709471  -0.684402   -0.676699  1.000000     0.941021   \n",
       "MPG_Highway   -0.717302  -0.676100   -0.647195  0.941021     1.000000   \n",
       "Weight         0.807867   0.742209    0.630796 -0.737966    -0.790989   \n",
       "Wheelbase      0.636517   0.546730    0.387398 -0.507284    -0.524661   \n",
       "Length         0.637448   0.547783    0.381554 -0.501526    -0.466092   \n",
       "\n",
       "               Weight  Wheelbase    Length  \n",
       "EngineSize   0.807867   0.636517  0.637448  \n",
       "Cylinders    0.742209   0.546730  0.547783  \n",
       "Horsepower   0.630796   0.387398  0.381554  \n",
       "MPG_City    -0.737966  -0.507284 -0.501526  \n",
       "MPG_Highway -0.790989  -0.524661 -0.466092  \n",
       "Weight       1.000000   0.760703  0.690021  \n",
       "Wheelbase    0.760703   1.000000  0.889195  \n",
       "Length       0.690021   0.889195  1.000000  "
      ]
     },
     "execution_count": 66,
     "metadata": {},
     "output_type": "execute_result"
    }
   ],
   "source": [
    "car.corr()"
   ]
  },
  {
   "cell_type": "code",
   "execution_count": null,
   "metadata": {},
   "outputs": [],
   "source": []
  }
 ],
 "metadata": {
  "interpreter": {
   "hash": "00eb15f380ac47aa194f9becbc1cbcf58a552beacff4d32d7ede72a57364ece4"
  },
  "kernelspec": {
   "display_name": "Python 3.8.8 64-bit ('base': conda)",
   "name": "python3"
  },
  "language_info": {
   "codemirror_mode": {
    "name": "ipython",
    "version": 3
   },
   "file_extension": ".py",
   "mimetype": "text/x-python",
   "name": "python",
   "nbconvert_exporter": "python",
   "pygments_lexer": "ipython3",
   "version": "3.8.8"
  },
  "orig_nbformat": 4
 },
 "nbformat": 4,
 "nbformat_minor": 2
}
